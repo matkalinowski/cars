{
 "cells": [
  {
   "cell_type": "markdown",
   "metadata": {
    "colab_type": "text",
    "id": "WnpyzosjBEn7"
   },
   "source": [
    "# Notebook for running training on Colab"
   ]
  },
  {
   "cell_type": "markdown",
   "metadata": {
    "colab_type": "text",
    "id": "L0n6y5IMA28A"
   },
   "source": [
    "Check if GPU is available (and which model):"
   ]
  },
  {
   "cell_type": "code",
   "execution_count": null,
   "metadata": {
    "colab": {},
    "colab_type": "code",
    "id": "B4sNU1yx-3ge"
   },
   "outputs": [],
   "source": [
    "!nvidia-smi"
   ]
  },
  {
   "cell_type": "markdown",
   "metadata": {
    "colab_type": "text",
    "id": "9oTsuwXBBCbT"
   },
   "source": [
    "Check if you're on Colab:"
   ]
  },
  {
   "cell_type": "code",
   "execution_count": null,
   "metadata": {
    "colab": {},
    "colab_type": "code",
    "id": "NU7lfRao-3gj"
   },
   "outputs": [],
   "source": [
    "try:\n",
    "  import google.colab\n",
    "  IN_COLAB = True\n",
    "except:\n",
    "  IN_COLAB = False"
   ]
  },
  {
   "cell_type": "markdown",
   "metadata": {
    "colab_type": "text",
    "id": "O2VCDpspBYCo"
   },
   "source": [
    "If on Colab, connect to Google Drive project folder and recreate local environment (after that, runtime restart and re-exuction of all cells are needed):"
   ]
  },
  {
   "cell_type": "code",
   "execution_count": null,
   "metadata": {
    "colab": {},
    "colab_type": "code",
    "id": "nkq-JGdX-3gn"
   },
   "outputs": [],
   "source": [
    "import os\n",
    "if IN_COLAB:\n",
    "    from google.colab import drive\n",
    "    drive.mount('/content/drive')\n",
    "    os.chdir('/content/drive/My Drive/gdprojects/cars')\n",
    "    try:\n",
    "        import mat4py\n",
    "        REQS_INSTALLED = True\n",
    "    except:\n",
    "        REQS_INSTALLED = False\n",
    "    if not REQS_INSTALLED:\n",
    "        !pip install -r dev_requirements.txt\n",
    "        !pip install -r prod_requirements.txt\n",
    "else:\n",
    "    os.chdir('C:/Users/pchaberski/Google Drive/gdprojects/cars')"
   ]
  },
  {
   "cell_type": "markdown",
   "metadata": {
    "colab_type": "text",
    "id": "InkWuVI2CFOh"
   },
   "source": [
    "Run training:"
   ]
  },
  {
   "cell_type": "code",
   "execution_count": null,
   "metadata": {
    "colab": {},
    "colab_type": "code",
    "id": "fdzz6g2n-3gq"
   },
   "outputs": [],
   "source": [
    "exec(open('train.py').read())"
   ]
  }
 ],
 "metadata": {
  "accelerator": "GPU",
  "colab": {
   "collapsed_sections": [],
   "name": "train_colab.ipynb",
   "provenance": []
  },
  "kernelspec": {
   "display_name": "Python 3",
   "language": "python",
   "name": "python3"
  },
  "language_info": {
   "codemirror_mode": {
    "name": "ipython",
    "version": 3
   },
   "file_extension": ".py",
   "mimetype": "text/x-python",
   "name": "python",
   "nbconvert_exporter": "python",
   "pygments_lexer": "ipython3",
   "version": "3.7.6"
  }
 },
 "nbformat": 4,
 "nbformat_minor": 4
}
