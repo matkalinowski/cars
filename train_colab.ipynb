{
 "cells": [
  {
   "cell_type": "markdown",
   "metadata": {
    "colab_type": "text",
    "id": "WnpyzosjBEn7"
   },
   "source": [
    "# Notebook for running training on Colab"
   ]
  },
  {
   "cell_type": "markdown",
   "metadata": {
    "colab_type": "text",
    "id": "rARJTynbun8o"
   },
   "source": [
    "Working directory settings:"
   ]
  },
  {
   "cell_type": "code",
   "execution_count": null,
   "metadata": {
    "colab": {},
    "colab_type": "code",
    "executionInfo": {
     "elapsed": 903,
     "status": "ok",
     "timestamp": 1598629970033,
     "user": {
      "displayName": "Piotr Chaberski",
      "photoUrl": "",
      "userId": "02798827690844129152"
     },
     "user_tz": -120
    },
    "id": "AqXOf20nun8p"
   },
   "outputs": [],
   "source": [
    "colab_google_drive_mount_point = '/content/drive'\n",
    "colab_remote_project_wdir = '/content/drive/My Drive/gdprojects/cars'\n",
    "local_project_wdir = 'C:/Users/pchaberski/Google Drive/gdprojects/cars'\n",
    "\n",
    "DATA_ON_COLAB = True\n",
    "colab_data_dir = '/content/input'"
   ]
  },
  {
   "cell_type": "markdown",
   "metadata": {
    "colab_type": "text",
    "id": "L0n6y5IMA28A"
   },
   "source": [
    "Check if GPU is available (and which model):"
   ]
  },
  {
   "cell_type": "code",
   "execution_count": null,
   "metadata": {
    "colab": {
     "base_uri": "https://localhost:8080/",
     "height": 357
    },
    "colab_type": "code",
    "executionInfo": {
     "elapsed": 878,
     "status": "ok",
     "timestamp": 1598629971678,
     "user": {
      "displayName": "Piotr Chaberski",
      "photoUrl": "",
      "userId": "02798827690844129152"
     },
     "user_tz": -120
    },
    "id": "B4sNU1yx-3ge",
    "outputId": "c2c2a6fc-2e36-404e-9cf3-0610854f0a18"
   },
   "outputs": [],
   "source": [
    "!nvidia-smi"
   ]
  },
  {
   "cell_type": "markdown",
   "metadata": {
    "colab_type": "text",
    "id": "9oTsuwXBBCbT"
   },
   "source": [
    "Check if you're on Colab:"
   ]
  },
  {
   "cell_type": "code",
   "execution_count": null,
   "metadata": {
    "colab": {},
    "colab_type": "code",
    "executionInfo": {
     "elapsed": 1286,
     "status": "ok",
     "timestamp": 1598629974759,
     "user": {
      "displayName": "Piotr Chaberski",
      "photoUrl": "",
      "userId": "02798827690844129152"
     },
     "user_tz": -120
    },
    "id": "NU7lfRao-3gj"
   },
   "outputs": [],
   "source": [
    "try:\n",
    "  import google.colab\n",
    "  IN_COLAB = True\n",
    "except:\n",
    "  IN_COLAB = False"
   ]
  },
  {
   "cell_type": "markdown",
   "metadata": {
    "colab_type": "text",
    "id": "O2VCDpspBYCo"
   },
   "source": [
    "If on Colab, connect to Google Drive project folder and recreate local environment (after that, runtime restart and re-exuction of all cells are needed):"
   ]
  },
  {
   "cell_type": "code",
   "execution_count": null,
   "metadata": {
    "colab": {
     "base_uri": "https://localhost:8080/",
     "height": 34
    },
    "colab_type": "code",
    "executionInfo": {
     "elapsed": 858,
     "status": "ok",
     "timestamp": 1598629976254,
     "user": {
      "displayName": "Piotr Chaberski",
      "photoUrl": "",
      "userId": "02798827690844129152"
     },
     "user_tz": -120
    },
    "id": "nkq-JGdX-3gn",
    "outputId": "41fab7a3-6380-44fa-8c9a-638b33091b9a"
   },
   "outputs": [],
   "source": [
    "import os\n",
    "if IN_COLAB:\n",
    "    from google.colab import drive\n",
    "    drive.mount(colab_google_drive_mount_point)\n",
    "    os.chdir(colab_remote_project_wdir)\n",
    "    try:\n",
    "        import mat4py\n",
    "        REQS_INSTALLED = True\n",
    "    except:\n",
    "        REQS_INSTALLED = False\n",
    "    if not REQS_INSTALLED:\n",
    "        !pip install -r prod_requirements.txt\n",
    "else:\n",
    "    os.chdir(local_project_wdir)"
   ]
  },
  {
   "cell_type": "markdown",
   "metadata": {
    "colab_type": "text",
    "id": "sag2Bh0FvKSN"
   },
   "source": [
    "Copy data from Google Drive to Colab to speed up data loading and training (`stanford` folder has to be archived and gzipped to `stanford.tar.gz` and put in the `cars/input` folder)."
   ]
  },
  {
   "cell_type": "code",
   "execution_count": null,
   "metadata": {
    "colab": {
     "base_uri": "https://localhost:8080/",
     "height": 1000
    },
    "colab_type": "code",
    "executionInfo": {
     "elapsed": 324000,
     "status": "ok",
     "timestamp": 1598631433209,
     "user": {
      "displayName": "Piotr Chaberski",
      "photoUrl": "",
      "userId": "02798827690844129152"
     },
     "user_tz": -120
    },
    "id": "Y4Wld5w8vIiG",
    "outputId": "aac66f30-8ef8-49c5-b188-d248a27f9066"
   },
   "outputs": [],
   "source": [
    "if IN_COLAB and DATA_ON_COLAB:\n",
    "    !mkdir -p \"$colab_data_dir\"\n",
    "    !cp -n \"$colab_remote_project_wdir/input/stanford.tar.gz\" \"$colab_data_dir/\"\n",
    "    !tar -C \"$colab_data_dir/\" -zxvf \"$colab_data_dir/stanford.tar.gz\""
   ]
  },
  {
   "cell_type": "markdown",
   "metadata": {
    "colab_type": "text",
    "id": "InkWuVI2CFOh"
   },
   "source": [
    "Run training:"
   ]
  },
  {
   "cell_type": "code",
   "execution_count": null,
   "metadata": {
    "colab": {},
    "colab_type": "code",
    "id": "fdzz6g2n-3gq"
   },
   "outputs": [],
   "source": [
    "if DATA_ON_COLAB:\n",
    "    !python train.py -d \"$colab_data_dir/stanford\"\n",
    "else:\n",
    "    !python train.py"
   ]
  }
 ],
 "metadata": {
  "accelerator": "GPU",
  "colab": {
   "collapsed_sections": [],
   "name": "train_colab.ipynb",
   "provenance": [],
   "toc_visible": true
  },
  "kernelspec": {
   "display_name": "Python 3",
   "language": "python",
   "name": "python3"
  },
  "language_info": {
   "codemirror_mode": {
    "name": "ipython",
    "version": 3
   },
   "file_extension": ".py",
   "mimetype": "text/x-python",
   "name": "python",
   "nbconvert_exporter": "python",
   "pygments_lexer": "ipython3",
   "version": "3.7.6"
  }
 },
 "nbformat": 4,
 "nbformat_minor": 4
}
