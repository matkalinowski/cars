{
 "cells": [
  {
   "cell_type": "code",
   "execution_count": 1,
   "metadata": {},
   "outputs": [],
   "source": [
    "try:\n",
    "  import google.colab\n",
    "  IN_COLAB = True\n",
    "except:\n",
    "  IN_COLAB = False"
   ]
  },
  {
   "cell_type": "code",
   "execution_count": null,
   "metadata": {},
   "outputs": [],
   "source": []
  },
  {
   "cell_type": "code",
   "execution_count": 2,
   "metadata": {},
   "outputs": [
    {
     "data": {
      "text/plain": [
       "False"
      ]
     },
     "execution_count": 2,
     "metadata": {},
     "output_type": "execute_result"
    }
   ],
   "source": [
    "IN_COLAB"
   ]
  },
  {
   "cell_type": "code",
   "execution_count": 5,
   "metadata": {},
   "outputs": [],
   "source": [
    "import os\n",
    "\n",
    "if IN_COLAB:\n",
    "    from google.colab import drive\n",
    "    drive.mount('/content/drive')\n",
    "    os.chdir('/content/drive/My Drive/gdprojects/cars')\n",
    "else:\n",
    "    os.chdir('C:/Users/pchaberski/Google Drive/gdprojects/cars')"
   ]
  },
  {
   "cell_type": "code",
   "execution_count": 6,
   "metadata": {},
   "outputs": [
    {
     "data": {
      "text/plain": [
       "'C:\\\\Users\\\\pchaberski\\\\Google Drive\\\\gdprojects\\\\cars'"
      ]
     },
     "execution_count": 6,
     "metadata": {},
     "output_type": "execute_result"
    }
   ],
   "source": [
    "import os\n",
    "os.getcwd()"
   ]
  },
  {
   "cell_type": "code",
   "execution_count": null,
   "metadata": {},
   "outputs": [],
   "source": []
  },
  {
   "cell_type": "code",
   "execution_count": null,
   "metadata": {},
   "outputs": [],
   "source": []
  },
  {
   "cell_type": "code",
   "execution_count": null,
   "metadata": {},
   "outputs": [],
   "source": []
  },
  {
   "cell_type": "code",
   "execution_count": null,
   "metadata": {},
   "outputs": [],
   "source": []
  },
  {
   "cell_type": "code",
   "execution_count": 4,
   "metadata": {
    "colab": {
     "base_uri": "https://localhost:8080/",
     "height": 35
    },
    "colab_type": "code",
    "executionInfo": {
     "elapsed": 4149,
     "status": "ok",
     "timestamp": 1596909285590,
     "user": {
      "displayName": "Piotr Chaberski",
      "photoUrl": "",
      "userId": "02798827690844129152"
     },
     "user_tz": -120
    },
    "id": "k5sUgd5HNYKd",
    "outputId": "74f29c58-2395-43e4-ef66-b157f28a9121"
   },
   "outputs": [
    {
     "data": {
      "application/vnd.google.colaboratory.intrinsic+json": {
       "type": "string"
      },
      "text/plain": [
       "'1.6.0+cu101'"
      ]
     },
     "execution_count": 4,
     "metadata": {
      "tags": []
     },
     "output_type": "execute_result"
    }
   ],
   "source": [
    "import torch\n",
    "torch.__version__"
   ]
  },
  {
   "cell_type": "code",
   "execution_count": 1,
   "metadata": {
    "colab": {
     "base_uri": "https://localhost:8080/",
     "height": 35
    },
    "colab_type": "code",
    "executionInfo": {
     "elapsed": 885,
     "status": "ok",
     "timestamp": 1596908737201,
     "user": {
      "displayName": "Piotr Chaberski",
      "photoUrl": "",
      "userId": "02798827690844129152"
     },
     "user_tz": -120
    },
    "id": "KwxFbowXKYpm",
    "outputId": "f6083f20-318b-4e09-e1e8-5c7c09e662d6"
   },
   "outputs": [
    {
     "data": {
      "application/vnd.google.colaboratory.intrinsic+json": {
       "type": "string"
      },
      "text/plain": [
       "'1.0.5'"
      ]
     },
     "execution_count": 1,
     "metadata": {
      "tags": []
     },
     "output_type": "execute_result"
    }
   ],
   "source": [
    "import pandas\n",
    "pandas.__version__"
   ]
  },
  {
   "cell_type": "code",
   "execution_count": 3,
   "metadata": {
    "colab": {
     "base_uri": "https://localhost:8080/",
     "height": 323
    },
    "colab_type": "code",
    "executionInfo": {
     "elapsed": 10072,
     "status": "ok",
     "timestamp": 1596908800068,
     "user": {
      "displayName": "Piotr Chaberski",
      "photoUrl": "",
      "userId": "02798827690844129152"
     },
     "user_tz": -120
    },
    "id": "r-TV5D_JLEAc",
    "outputId": "c62011b8-fc84-4376-f4c1-42f4bc7fc2d6"
   },
   "outputs": [
    {
     "name": "stdout",
     "output_type": "stream",
     "text": [
      "Collecting pandas==1.1.0\n",
      "\u001b[?25l  Downloading https://files.pythonhosted.org/packages/a7/f7/2adca20a7fa71b6a32f823bbd83992adeceab1d8bf72992bb7a55c69c19a/pandas-1.1.0-cp36-cp36m-manylinux1_x86_64.whl (10.5MB)\n",
      "\u001b[K     |████████████████████████████████| 10.5MB 2.7MB/s \n",
      "\u001b[?25hRequirement already satisfied: pytz>=2017.2 in /usr/local/lib/python3.6/dist-packages (from pandas==1.1.0->-r reqs.txt (line 1)) (2018.9)\n",
      "Requirement already satisfied: numpy>=1.15.4 in /usr/local/lib/python3.6/dist-packages (from pandas==1.1.0->-r reqs.txt (line 1)) (1.18.5)\n",
      "Requirement already satisfied: python-dateutil>=2.7.3 in /usr/local/lib/python3.6/dist-packages (from pandas==1.1.0->-r reqs.txt (line 1)) (2.8.1)\n",
      "Requirement already satisfied: six>=1.5 in /usr/local/lib/python3.6/dist-packages (from python-dateutil>=2.7.3->pandas==1.1.0->-r reqs.txt (line 1)) (1.15.0)\n",
      "\u001b[31mERROR: google-colab 1.0.0 has requirement pandas~=1.0.0; python_version >= \"3.0\", but you'll have pandas 1.1.0 which is incompatible.\u001b[0m\n",
      "Installing collected packages: pandas\n",
      "  Found existing installation: pandas 1.0.5\n",
      "    Uninstalling pandas-1.0.5:\n",
      "      Successfully uninstalled pandas-1.0.5\n",
      "Successfully installed pandas-1.1.0\n"
     ]
    },
    {
     "data": {
      "application/vnd.colab-display-data+json": {
       "pip_warning": {
        "packages": [
         "pandas"
        ]
       }
      }
     },
     "metadata": {
      "tags": []
     },
     "output_type": "display_data"
    }
   ],
   "source": [
    "!pip install -r reqs.txt"
   ]
  },
  {
   "cell_type": "code",
   "execution_count": 2,
   "metadata": {
    "colab": {
     "base_uri": "https://localhost:8080/",
     "height": 35
    },
    "colab_type": "code",
    "executionInfo": {
     "elapsed": 659,
     "status": "ok",
     "timestamp": 1596908847894,
     "user": {
      "displayName": "Piotr Chaberski",
      "photoUrl": "",
      "userId": "02798827690844129152"
     },
     "user_tz": -120
    },
    "id": "yahU0afYLsTt",
    "outputId": "8583c80c-9e9e-497b-d79c-c9988df584f9"
   },
   "outputs": [
    {
     "data": {
      "application/vnd.google.colaboratory.intrinsic+json": {
       "type": "string"
      },
      "text/plain": [
       "'1.1.0'"
      ]
     },
     "execution_count": 2,
     "metadata": {
      "tags": []
     },
     "output_type": "execute_result"
    }
   ],
   "source": [
    "import pandas\n",
    "pandas.__version__"
   ]
  },
  {
   "cell_type": "code",
   "execution_count": null,
   "metadata": {
    "colab": {},
    "colab_type": "code",
    "id": "Dd_BipZNV5li"
   },
   "outputs": [],
   "source": [
    "import os\n",
    "os.chdir('/content/drive/My Drive/gdprojects/cars')"
   ]
  },
  {
   "cell_type": "code",
   "execution_count": null,
   "metadata": {
    "colab": {
     "base_uri": "https://localhost:8080/",
     "height": 34
    },
    "colab_type": "code",
    "executionInfo": {
     "elapsed": 1657,
     "status": "ok",
     "timestamp": 1596743762701,
     "user": {
      "displayName": "Piotr Chaberski",
      "photoUrl": "",
      "userId": "02798827690844129152"
     },
     "user_tz": -120
    },
    "id": "PnCW_xcDWAjr",
    "outputId": "31bbc05b-d698-47d6-dd51-69cf0bda8d4a"
   },
   "outputs": [
    {
     "name": "stdout",
     "output_type": "stream",
     "text": [
      "/content/drive/My Drive/gdprojects/cars\n"
     ]
    }
   ],
   "source": [
    "!pwd"
   ]
  },
  {
   "cell_type": "code",
   "execution_count": null,
   "metadata": {
    "colab": {
     "base_uri": "https://localhost:8080/",
     "height": 34
    },
    "colab_type": "code",
    "executionInfo": {
     "elapsed": 1709,
     "status": "ok",
     "timestamp": 1596743904186,
     "user": {
      "displayName": "Piotr Chaberski",
      "photoUrl": "",
      "userId": "02798827690844129152"
     },
     "user_tz": -120
    },
    "id": "YZBOg7X2WDv7",
    "outputId": "c38215f6-2b7a-4b69-a6bc-e77efa9dd2fa"
   },
   "outputs": [
    {
     "name": "stdout",
     "output_type": "stream",
     "text": [
      "README.md  test_notebook.ipynb\ttest.py\n"
     ]
    }
   ],
   "source": [
    "!ls"
   ]
  },
  {
   "cell_type": "code",
   "execution_count": null,
   "metadata": {
    "colab": {
     "base_uri": "https://localhost:8080/",
     "height": 187
    },
    "colab_type": "code",
    "executionInfo": {
     "elapsed": 1683,
     "status": "ok",
     "timestamp": 1596744276725,
     "user": {
      "displayName": "Piotr Chaberski",
      "photoUrl": "",
      "userId": "02798827690844129152"
     },
     "user_tz": -120
    },
    "id": "9mwYGZAWW_iy",
    "outputId": "87fa0cfc-c2eb-4362-e100-b20595de39a7"
   },
   "outputs": [
    {
     "name": "stdout",
     "output_type": "stream",
     "text": [
      "a = 1\n",
      "a = a + 5\n",
      "print(a)\n",
      "import sys\n",
      "print(\"Python version\")\n",
      "print (sys.version)\n",
      "print(\"Version info.\")\n",
      "print (sys.version_info)\n",
      "import torch\n",
      "print(torch.__version__)"
     ]
    }
   ],
   "source": [
    "!cat test.py"
   ]
  },
  {
   "cell_type": "code",
   "execution_count": null,
   "metadata": {
    "colab": {
     "base_uri": "https://localhost:8080/",
     "height": 136
    },
    "colab_type": "code",
    "executionInfo": {
     "elapsed": 5759,
     "status": "ok",
     "timestamp": 1596744284345,
     "user": {
      "displayName": "Piotr Chaberski",
      "photoUrl": "",
      "userId": "02798827690844129152"
     },
     "user_tz": -120
    },
    "id": "78KJ337SWmQ1",
    "outputId": "ee915280-0204-4489-afc5-90031b47f4ca"
   },
   "outputs": [
    {
     "name": "stdout",
     "output_type": "stream",
     "text": [
      "6\n",
      "Python version\n",
      "3.6.9 (default, Jul 17 2020, 12:50:27) \n",
      "[GCC 8.4.0]\n",
      "Version info.\n",
      "sys.version_info(major=3, minor=6, micro=9, releaselevel='final', serial=0)\n",
      "1.6.0+cu101\n"
     ]
    }
   ],
   "source": [
    "!python test.py"
   ]
  },
  {
   "cell_type": "code",
   "execution_count": null,
   "metadata": {
    "colab": {},
    "colab_type": "code",
    "id": "BxuO_fqRXpcP"
   },
   "outputs": [],
   "source": []
  },
  {
   "cell_type": "markdown",
   "metadata": {
    "colab_type": "text",
    "id": "w2bN-tW-wNgZ"
   },
   "source": [
    "---"
   ]
  },
  {
   "cell_type": "code",
   "execution_count": 1,
   "metadata": {
    "colab": {
     "base_uri": "https://localhost:8080/",
     "height": 34
    },
    "colab_type": "code",
    "executionInfo": {
     "elapsed": 3532,
     "status": "ok",
     "timestamp": 1596968799589,
     "user": {
      "displayName": "Piotr Chaberski",
      "photoUrl": "",
      "userId": "02798827690844129152"
     },
     "user_tz": -120
    },
    "id": "iJmP-5gxwOC9",
    "outputId": "f165a713-d7d8-40af-c6e2-b758675087de"
   },
   "outputs": [
    {
     "name": "stdout",
     "output_type": "stream",
     "text": [
      "/content\n"
     ]
    }
   ],
   "source": [
    "!pwd"
   ]
  },
  {
   "cell_type": "code",
   "execution_count": 2,
   "metadata": {
    "colab": {
     "base_uri": "https://localhost:8080/",
     "height": 34
    },
    "colab_type": "code",
    "executionInfo": {
     "elapsed": 1963,
     "status": "ok",
     "timestamp": 1596968813309,
     "user": {
      "displayName": "Piotr Chaberski",
      "photoUrl": "",
      "userId": "02798827690844129152"
     },
     "user_tz": -120
    },
    "id": "_wXXc35Awf9X",
    "outputId": "a98a6d32-594d-4200-d0d2-55c99d126d88"
   },
   "outputs": [
    {
     "name": "stdout",
     "output_type": "stream",
     "text": [
      "reqs.txt  sample_data\n"
     ]
    }
   ],
   "source": [
    "!ls"
   ]
  },
  {
   "cell_type": "code",
   "execution_count": 8,
   "metadata": {
    "colab": {
     "base_uri": "https://localhost:8080/",
     "height": 1000
    },
    "colab_type": "code",
    "executionInfo": {
     "elapsed": 29599,
     "status": "ok",
     "timestamp": 1596968968867,
     "user": {
      "displayName": "Piotr Chaberski",
      "photoUrl": "",
      "userId": "02798827690844129152"
     },
     "user_tz": -120
    },
    "id": "sNWfh9Kkwjpt",
    "outputId": "70f477ca-cbd4-45b2-a112-49d0a873a3bf"
   },
   "outputs": [
    {
     "name": "stdout",
     "output_type": "stream",
     "text": [
      "Collecting numpy==1.18.1\n",
      "  Using cached https://files.pythonhosted.org/packages/62/20/4d43e141b5bc426ba38274933ef8e76e85c7adea2c321ecf9ebf7421cedf/numpy-1.18.1-cp36-cp36m-manylinux1_x86_64.whl\n",
      "Collecting pillow==7.1.2\n",
      "  Using cached https://files.pythonhosted.org/packages/e0/50/8e78e6f62ffa50d6ca95c281d5a2819bef66d023ac1b723e253de5bda9c5/Pillow-7.1.2-cp36-cp36m-manylinux1_x86_64.whl\n",
      "Requirement already satisfied: torch==1.6.0 in /usr/local/lib/python3.6/dist-packages (from -r reqs.txt (line 3)) (1.6.0+cu101)\n",
      "Collecting matplotlib==3.2.1\n",
      "\u001b[?25l  Downloading https://files.pythonhosted.org/packages/93/4b/52da6b1523d5139d04e02d9e26ceda6146b48f2a4e5d2abfdf1c7bac8c40/matplotlib-3.2.1-cp36-cp36m-manylinux1_x86_64.whl (12.4MB)\n",
      "\u001b[K     |████████████████████████████████| 12.4MB 209kB/s \n",
      "\u001b[?25hCollecting pandas==1.0.3\n",
      "\u001b[?25l  Downloading https://files.pythonhosted.org/packages/bb/71/8f53bdbcbc67c912b888b40def255767e475402e9df64050019149b1a943/pandas-1.0.3-cp36-cp36m-manylinux1_x86_64.whl (10.0MB)\n",
      "\u001b[K     |████████████████████████████████| 10.0MB 144kB/s \n",
      "\u001b[?25hCollecting pytorch-lightning==0.8.4\n",
      "\u001b[?25l  Downloading https://files.pythonhosted.org/packages/0b/bd/eb07602d70c83b58599850ace859649562cd6cb65a80319f28f53888cdf7/pytorch_lightning-0.8.4-py3-none-any.whl (304kB)\n",
      "\u001b[K     |████████████████████████████████| 307kB 53.3MB/s \n",
      "\u001b[?25hRequirement already satisfied: future in /usr/local/lib/python3.6/dist-packages (from torch==1.6.0->-r reqs.txt (line 3)) (0.16.0)\n",
      "Requirement already satisfied: python-dateutil>=2.1 in /usr/local/lib/python3.6/dist-packages (from matplotlib==3.2.1->-r reqs.txt (line 4)) (2.8.1)\n",
      "Requirement already satisfied: kiwisolver>=1.0.1 in /usr/local/lib/python3.6/dist-packages (from matplotlib==3.2.1->-r reqs.txt (line 4)) (1.2.0)\n",
      "Requirement already satisfied: cycler>=0.10 in /usr/local/lib/python3.6/dist-packages (from matplotlib==3.2.1->-r reqs.txt (line 4)) (0.10.0)\n",
      "Requirement already satisfied: pyparsing!=2.0.4,!=2.1.2,!=2.1.6,>=2.0.1 in /usr/local/lib/python3.6/dist-packages (from matplotlib==3.2.1->-r reqs.txt (line 4)) (2.4.7)\n",
      "Requirement already satisfied: pytz>=2017.2 in /usr/local/lib/python3.6/dist-packages (from pandas==1.0.3->-r reqs.txt (line 5)) (2018.9)\n",
      "Requirement already satisfied: tqdm>=4.41.0 in /usr/local/lib/python3.6/dist-packages (from pytorch-lightning==0.8.4->-r reqs.txt (line 6)) (4.41.1)\n",
      "Requirement already satisfied: tensorboard>=1.14 in /usr/local/lib/python3.6/dist-packages (from pytorch-lightning==0.8.4->-r reqs.txt (line 6)) (2.3.0)\n",
      "Collecting PyYAML>=5.1\n",
      "\u001b[?25l  Downloading https://files.pythonhosted.org/packages/64/c2/b80047c7ac2478f9501676c988a5411ed5572f35d1beff9cae07d321512c/PyYAML-5.3.1.tar.gz (269kB)\n",
      "\u001b[K     |████████████████████████████████| 276kB 58.5MB/s \n",
      "\u001b[?25hRequirement already satisfied: six>=1.5 in /usr/local/lib/python3.6/dist-packages (from python-dateutil>=2.1->matplotlib==3.2.1->-r reqs.txt (line 4)) (1.15.0)\n",
      "Requirement already satisfied: requests<3,>=2.21.0 in /usr/local/lib/python3.6/dist-packages (from tensorboard>=1.14->pytorch-lightning==0.8.4->-r reqs.txt (line 6)) (2.23.0)\n",
      "Requirement already satisfied: setuptools>=41.0.0 in /usr/local/lib/python3.6/dist-packages (from tensorboard>=1.14->pytorch-lightning==0.8.4->-r reqs.txt (line 6)) (49.2.0)\n",
      "Requirement already satisfied: werkzeug>=0.11.15 in /usr/local/lib/python3.6/dist-packages (from tensorboard>=1.14->pytorch-lightning==0.8.4->-r reqs.txt (line 6)) (1.0.1)\n",
      "Requirement already satisfied: protobuf>=3.6.0 in /usr/local/lib/python3.6/dist-packages (from tensorboard>=1.14->pytorch-lightning==0.8.4->-r reqs.txt (line 6)) (3.12.4)\n",
      "Requirement already satisfied: google-auth-oauthlib<0.5,>=0.4.1 in /usr/local/lib/python3.6/dist-packages (from tensorboard>=1.14->pytorch-lightning==0.8.4->-r reqs.txt (line 6)) (0.4.1)\n",
      "Requirement already satisfied: grpcio>=1.24.3 in /usr/local/lib/python3.6/dist-packages (from tensorboard>=1.14->pytorch-lightning==0.8.4->-r reqs.txt (line 6)) (1.30.0)\n",
      "Requirement already satisfied: google-auth<2,>=1.6.3 in /usr/local/lib/python3.6/dist-packages (from tensorboard>=1.14->pytorch-lightning==0.8.4->-r reqs.txt (line 6)) (1.17.2)\n",
      "Requirement already satisfied: absl-py>=0.4 in /usr/local/lib/python3.6/dist-packages (from tensorboard>=1.14->pytorch-lightning==0.8.4->-r reqs.txt (line 6)) (0.9.0)\n",
      "Requirement already satisfied: tensorboard-plugin-wit>=1.6.0 in /usr/local/lib/python3.6/dist-packages (from tensorboard>=1.14->pytorch-lightning==0.8.4->-r reqs.txt (line 6)) (1.7.0)\n",
      "Requirement already satisfied: markdown>=2.6.8 in /usr/local/lib/python3.6/dist-packages (from tensorboard>=1.14->pytorch-lightning==0.8.4->-r reqs.txt (line 6)) (3.2.2)\n",
      "Requirement already satisfied: wheel>=0.26; python_version >= \"3\" in /usr/local/lib/python3.6/dist-packages (from tensorboard>=1.14->pytorch-lightning==0.8.4->-r reqs.txt (line 6)) (0.34.2)\n",
      "Requirement already satisfied: urllib3!=1.25.0,!=1.25.1,<1.26,>=1.21.1 in /usr/local/lib/python3.6/dist-packages (from requests<3,>=2.21.0->tensorboard>=1.14->pytorch-lightning==0.8.4->-r reqs.txt (line 6)) (1.24.3)\n",
      "Requirement already satisfied: chardet<4,>=3.0.2 in /usr/local/lib/python3.6/dist-packages (from requests<3,>=2.21.0->tensorboard>=1.14->pytorch-lightning==0.8.4->-r reqs.txt (line 6)) (3.0.4)\n",
      "Requirement already satisfied: certifi>=2017.4.17 in /usr/local/lib/python3.6/dist-packages (from requests<3,>=2.21.0->tensorboard>=1.14->pytorch-lightning==0.8.4->-r reqs.txt (line 6)) (2020.6.20)\n",
      "Requirement already satisfied: idna<3,>=2.5 in /usr/local/lib/python3.6/dist-packages (from requests<3,>=2.21.0->tensorboard>=1.14->pytorch-lightning==0.8.4->-r reqs.txt (line 6)) (2.10)\n",
      "Requirement already satisfied: requests-oauthlib>=0.7.0 in /usr/local/lib/python3.6/dist-packages (from google-auth-oauthlib<0.5,>=0.4.1->tensorboard>=1.14->pytorch-lightning==0.8.4->-r reqs.txt (line 6)) (1.3.0)\n",
      "Requirement already satisfied: rsa<5,>=3.1.4; python_version >= \"3\" in /usr/local/lib/python3.6/dist-packages (from google-auth<2,>=1.6.3->tensorboard>=1.14->pytorch-lightning==0.8.4->-r reqs.txt (line 6)) (4.6)\n",
      "Requirement already satisfied: pyasn1-modules>=0.2.1 in /usr/local/lib/python3.6/dist-packages (from google-auth<2,>=1.6.3->tensorboard>=1.14->pytorch-lightning==0.8.4->-r reqs.txt (line 6)) (0.2.8)\n",
      "Requirement already satisfied: cachetools<5.0,>=2.0.0 in /usr/local/lib/python3.6/dist-packages (from google-auth<2,>=1.6.3->tensorboard>=1.14->pytorch-lightning==0.8.4->-r reqs.txt (line 6)) (4.1.1)\n",
      "Requirement already satisfied: importlib-metadata; python_version < \"3.8\" in /usr/local/lib/python3.6/dist-packages (from markdown>=2.6.8->tensorboard>=1.14->pytorch-lightning==0.8.4->-r reqs.txt (line 6)) (1.7.0)\n",
      "Requirement already satisfied: oauthlib>=3.0.0 in /usr/local/lib/python3.6/dist-packages (from requests-oauthlib>=0.7.0->google-auth-oauthlib<0.5,>=0.4.1->tensorboard>=1.14->pytorch-lightning==0.8.4->-r reqs.txt (line 6)) (3.1.0)\n",
      "Requirement already satisfied: pyasn1>=0.1.3 in /usr/local/lib/python3.6/dist-packages (from rsa<5,>=3.1.4; python_version >= \"3\"->google-auth<2,>=1.6.3->tensorboard>=1.14->pytorch-lightning==0.8.4->-r reqs.txt (line 6)) (0.4.8)\n",
      "Requirement already satisfied: zipp>=0.5 in /usr/local/lib/python3.6/dist-packages (from importlib-metadata; python_version < \"3.8\"->markdown>=2.6.8->tensorboard>=1.14->pytorch-lightning==0.8.4->-r reqs.txt (line 6)) (3.1.0)\n",
      "Building wheels for collected packages: PyYAML\n",
      "  Building wheel for PyYAML (setup.py) ... \u001b[?25l\u001b[?25hdone\n",
      "  Created wheel for PyYAML: filename=PyYAML-5.3.1-cp36-cp36m-linux_x86_64.whl size=44621 sha256=4fc934a75ff6222d433d0fc9d46554ffebf1ce67a5c94eb31c869436628631f1\n",
      "  Stored in directory: /root/.cache/pip/wheels/a7/c1/ea/cf5bd31012e735dc1dfea3131a2d5eae7978b251083d6247bd\n",
      "Successfully built PyYAML\n",
      "\u001b[31mERROR: datascience 0.10.6 has requirement folium==0.2.1, but you'll have folium 0.8.3 which is incompatible.\u001b[0m\n",
      "\u001b[31mERROR: albumentations 0.1.12 has requirement imgaug<0.2.7,>=0.2.5, but you'll have imgaug 0.2.9 which is incompatible.\u001b[0m\n",
      "\u001b[31mERROR: pytorch-lightning 0.8.4 has requirement future>=0.17.1, but you'll have future 0.16.0 which is incompatible.\u001b[0m\n",
      "Installing collected packages: numpy, pillow, matplotlib, pandas, PyYAML, pytorch-lightning\n",
      "  Found existing installation: numpy 1.18.5\n",
      "    Uninstalling numpy-1.18.5:\n",
      "      Successfully uninstalled numpy-1.18.5\n",
      "  Found existing installation: Pillow 7.0.0\n",
      "    Uninstalling Pillow-7.0.0:\n",
      "      Successfully uninstalled Pillow-7.0.0\n",
      "  Found existing installation: matplotlib 3.2.2\n",
      "    Uninstalling matplotlib-3.2.2:\n",
      "      Successfully uninstalled matplotlib-3.2.2\n",
      "  Found existing installation: pandas 1.0.5\n",
      "    Uninstalling pandas-1.0.5:\n",
      "      Successfully uninstalled pandas-1.0.5\n",
      "  Found existing installation: PyYAML 3.13\n",
      "    Uninstalling PyYAML-3.13:\n",
      "      Successfully uninstalled PyYAML-3.13\n",
      "Successfully installed PyYAML-5.3.1 matplotlib-3.2.1 numpy-1.18.1 pandas-1.0.3 pillow-7.1.2 pytorch-lightning-0.8.4\n"
     ]
    },
    {
     "data": {
      "application/vnd.colab-display-data+json": {
       "pip_warning": {
        "packages": [
         "PIL",
         "matplotlib",
         "mpl_toolkits",
         "numpy",
         "pandas"
        ]
       }
      }
     },
     "metadata": {
      "tags": []
     },
     "output_type": "display_data"
    }
   ],
   "source": [
    "!pip install -r reqs.txt"
   ]
  },
  {
   "cell_type": "code",
   "execution_count": 1,
   "metadata": {
    "colab": {
     "base_uri": "https://localhost:8080/",
     "height": 35
    },
    "colab_type": "code",
    "executionInfo": {
     "elapsed": 571,
     "status": "ok",
     "timestamp": 1596969000687,
     "user": {
      "displayName": "Piotr Chaberski",
      "photoUrl": "",
      "userId": "02798827690844129152"
     },
     "user_tz": -120
    },
    "id": "IQ4tDgHIwo3t",
    "outputId": "301d8acf-9186-4ad4-dcb4-ecd8a20c5241"
   },
   "outputs": [
    {
     "data": {
      "application/vnd.google.colaboratory.intrinsic+json": {
       "type": "string"
      },
      "text/plain": [
       "'1.0.3'"
      ]
     },
     "execution_count": 1,
     "metadata": {
      "tags": []
     },
     "output_type": "execute_result"
    }
   ],
   "source": [
    "import pandas\n",
    "pandas.__version__"
   ]
  },
  {
   "cell_type": "code",
   "execution_count": 2,
   "metadata": {
    "colab": {},
    "colab_type": "code",
    "executionInfo": {
     "elapsed": 4018,
     "status": "ok",
     "timestamp": 1596969015085,
     "user": {
      "displayName": "Piotr Chaberski",
      "photoUrl": "",
      "userId": "02798827690844129152"
     },
     "user_tz": -120
    },
    "id": "eaeXvrbLxRtw"
   },
   "outputs": [],
   "source": [
    "import torch"
   ]
  },
  {
   "cell_type": "code",
   "execution_count": 3,
   "metadata": {
    "colab": {
     "base_uri": "https://localhost:8080/",
     "height": 35
    },
    "colab_type": "code",
    "executionInfo": {
     "elapsed": 536,
     "status": "ok",
     "timestamp": 1596969023362,
     "user": {
      "displayName": "Piotr Chaberski",
      "photoUrl": "",
      "userId": "02798827690844129152"
     },
     "user_tz": -120
    },
    "id": "i1eUu8B4xUdM",
    "outputId": "46372e36-a5d8-41d2-a91f-edfe5712ad45"
   },
   "outputs": [
    {
     "data": {
      "application/vnd.google.colaboratory.intrinsic+json": {
       "type": "string"
      },
      "text/plain": [
       "'1.6.0+cu101'"
      ]
     },
     "execution_count": 3,
     "metadata": {
      "tags": []
     },
     "output_type": "execute_result"
    }
   ],
   "source": [
    "torch.__version__"
   ]
  },
  {
   "cell_type": "code",
   "execution_count": 1,
   "metadata": {
    "colab": {
     "base_uri": "https://localhost:8080/",
     "height": 102
    },
    "colab_type": "code",
    "executionInfo": {
     "elapsed": 2473,
     "status": "ok",
     "timestamp": 1596979790987,
     "user": {
      "displayName": "Piotr Chaberski",
      "photoUrl": "",
      "userId": "02798827690844129152"
     },
     "user_tz": -120
    },
    "id": "XHNmS7YrxXU8",
    "outputId": "82a1466f-41f2-415e-bf22-075e5f0afade"
   },
   "outputs": [
    {
     "name": "stdout",
     "output_type": "stream",
     "text": [
      "Cloning into 'cars'...\n",
      "remote: Enumerating objects: 3, done.\u001b[K\n",
      "remote: Counting objects: 100% (3/3), done.\u001b[K\n",
      "remote: Total 3 (delta 0), reused 0 (delta 0), pack-reused 0\u001b[K\n",
      "Unpacking objects: 100% (3/3), done.\n"
     ]
    }
   ],
   "source": [
    "!git clone https://github.com/pchaberski/cars"
   ]
  },
  {
   "cell_type": "markdown",
   "metadata": {
    "colab_type": "text",
    "id": "pzVpoZOk1qM8"
   },
   "source": [
    "---"
   ]
  },
  {
   "cell_type": "code",
   "execution_count": 1,
   "metadata": {
    "colab": {},
    "colab_type": "code",
    "executionInfo": {
     "elapsed": 866,
     "status": "ok",
     "timestamp": 1596989079650,
     "user": {
      "displayName": "Piotr Chaberski",
      "photoUrl": "",
      "userId": "02798827690844129152"
     },
     "user_tz": -120
    },
    "id": "LRaD0edbabqT"
   },
   "outputs": [],
   "source": [
    "import scipy.io\n",
    "mat = scipy.io.loadmat('/content/cars_train_annos.mat')"
   ]
  },
  {
   "cell_type": "code",
   "execution_count": 4,
   "metadata": {
    "colab": {
     "base_uri": "https://localhost:8080/",
     "height": 34
    },
    "colab_type": "code",
    "executionInfo": {
     "elapsed": 933,
     "status": "ok",
     "timestamp": 1596989191224,
     "user": {
      "displayName": "Piotr Chaberski",
      "photoUrl": "",
      "userId": "02798827690844129152"
     },
     "user_tz": -120
    },
    "id": "8uWxODJE93yx",
    "outputId": "70d92139-ade3-42b7-a253-08d0fc802d12"
   },
   "outputs": [
    {
     "data": {
      "text/plain": [
       "dict"
      ]
     },
     "execution_count": 4,
     "metadata": {
      "tags": []
     },
     "output_type": "execute_result"
    }
   ],
   "source": [
    "type(mat)"
   ]
  },
  {
   "cell_type": "code",
   "execution_count": 5,
   "metadata": {
    "colab": {
     "base_uri": "https://localhost:8080/",
     "height": 34
    },
    "colab_type": "code",
    "executionInfo": {
     "elapsed": 931,
     "status": "ok",
     "timestamp": 1596989199379,
     "user": {
      "displayName": "Piotr Chaberski",
      "photoUrl": "",
      "userId": "02798827690844129152"
     },
     "user_tz": -120
    },
    "id": "k3b_pDI194dv",
    "outputId": "41a24ba9-9aab-4256-a57a-db7a6c1dc05a"
   },
   "outputs": [
    {
     "data": {
      "text/plain": [
       "numpy.ndarray"
      ]
     },
     "execution_count": 5,
     "metadata": {
      "tags": []
     },
     "output_type": "execute_result"
    }
   ],
   "source": [
    "type(mat['annotations'])"
   ]
  },
  {
   "cell_type": "code",
   "execution_count": 6,
   "metadata": {
    "colab": {},
    "colab_type": "code",
    "executionInfo": {
     "elapsed": 977,
     "status": "ok",
     "timestamp": 1596989222588,
     "user": {
      "displayName": "Piotr Chaberski",
      "photoUrl": "",
      "userId": "02798827690844129152"
     },
     "user_tz": -120
    },
    "id": "QsuM3Usm-ZVq"
   },
   "outputs": [],
   "source": [
    "import pandas as pd"
   ]
  },
  {
   "cell_type": "code",
   "execution_count": 7,
   "metadata": {
    "colab": {
     "base_uri": "https://localhost:8080/",
     "height": 306
    },
    "colab_type": "code",
    "executionInfo": {
     "elapsed": 879,
     "status": "error",
     "timestamp": 1596989230312,
     "user": {
      "displayName": "Piotr Chaberski",
      "photoUrl": "",
      "userId": "02798827690844129152"
     },
     "user_tz": -120
    },
    "id": "F0aTqmO6-HFL",
    "outputId": "11cc21e6-00c8-467e-897a-7c2d3ad2ca70"
   },
   "outputs": [
    {
     "ename": "ValueError",
     "evalue": "ignored",
     "output_type": "error",
     "traceback": [
      "\u001b[0;31m---------------------------------------------------------------------------\u001b[0m",
      "\u001b[0;31mValueError\u001b[0m                                Traceback (most recent call last)",
      "\u001b[0;32m<ipython-input-7-53ad5aa4a035>\u001b[0m in \u001b[0;36m<module>\u001b[0;34m()\u001b[0m\n\u001b[0;32m----> 1\u001b[0;31m \u001b[0mpd\u001b[0m\u001b[0;34m.\u001b[0m\u001b[0mDataFrame\u001b[0m\u001b[0;34m(\u001b[0m\u001b[0mmat\u001b[0m\u001b[0;34m[\u001b[0m\u001b[0;34m'annotations'\u001b[0m\u001b[0;34m]\u001b[0m\u001b[0;34m)\u001b[0m\u001b[0;34m\u001b[0m\u001b[0;34m\u001b[0m\u001b[0m\n\u001b[0m",
      "\u001b[0;32m/usr/local/lib/python3.6/dist-packages/pandas/core/frame.py\u001b[0m in \u001b[0;36m__init__\u001b[0;34m(self, data, index, columns, dtype, copy)\u001b[0m\n\u001b[1;32m    458\u001b[0m                 \u001b[0;32mif\u001b[0m \u001b[0mcolumns\u001b[0m \u001b[0;32mis\u001b[0m \u001b[0;32mNone\u001b[0m\u001b[0;34m:\u001b[0m\u001b[0;34m\u001b[0m\u001b[0;34m\u001b[0m\u001b[0m\n\u001b[1;32m    459\u001b[0m                     \u001b[0mcolumns\u001b[0m \u001b[0;34m=\u001b[0m \u001b[0mdata_columns\u001b[0m\u001b[0;34m\u001b[0m\u001b[0;34m\u001b[0m\u001b[0m\n\u001b[0;32m--> 460\u001b[0;31m                 \u001b[0mmgr\u001b[0m \u001b[0;34m=\u001b[0m \u001b[0minit_dict\u001b[0m\u001b[0;34m(\u001b[0m\u001b[0mdata\u001b[0m\u001b[0;34m,\u001b[0m \u001b[0mindex\u001b[0m\u001b[0;34m,\u001b[0m \u001b[0mcolumns\u001b[0m\u001b[0;34m,\u001b[0m \u001b[0mdtype\u001b[0m\u001b[0;34m=\u001b[0m\u001b[0mdtype\u001b[0m\u001b[0;34m)\u001b[0m\u001b[0;34m\u001b[0m\u001b[0;34m\u001b[0m\u001b[0m\n\u001b[0m\u001b[1;32m    461\u001b[0m             \u001b[0;32melif\u001b[0m \u001b[0mgetattr\u001b[0m\u001b[0;34m(\u001b[0m\u001b[0mdata\u001b[0m\u001b[0;34m,\u001b[0m \u001b[0;34m\"name\"\u001b[0m\u001b[0;34m,\u001b[0m \u001b[0;32mNone\u001b[0m\u001b[0;34m)\u001b[0m \u001b[0;32mis\u001b[0m \u001b[0;32mnot\u001b[0m \u001b[0;32mNone\u001b[0m\u001b[0;34m:\u001b[0m\u001b[0;34m\u001b[0m\u001b[0;34m\u001b[0m\u001b[0m\n\u001b[1;32m    462\u001b[0m                 \u001b[0mmgr\u001b[0m \u001b[0;34m=\u001b[0m \u001b[0minit_dict\u001b[0m\u001b[0;34m(\u001b[0m\u001b[0;34m{\u001b[0m\u001b[0mdata\u001b[0m\u001b[0;34m.\u001b[0m\u001b[0mname\u001b[0m\u001b[0;34m:\u001b[0m \u001b[0mdata\u001b[0m\u001b[0;34m}\u001b[0m\u001b[0;34m,\u001b[0m \u001b[0mindex\u001b[0m\u001b[0;34m,\u001b[0m \u001b[0mcolumns\u001b[0m\u001b[0;34m,\u001b[0m \u001b[0mdtype\u001b[0m\u001b[0;34m=\u001b[0m\u001b[0mdtype\u001b[0m\u001b[0;34m)\u001b[0m\u001b[0;34m\u001b[0m\u001b[0;34m\u001b[0m\u001b[0m\n",
      "\u001b[0;32m/usr/local/lib/python3.6/dist-packages/pandas/core/internals/construction.py\u001b[0m in \u001b[0;36minit_dict\u001b[0;34m(data, index, columns, dtype)\u001b[0m\n\u001b[1;32m    226\u001b[0m             \u001b[0;31m# GH10856\u001b[0m\u001b[0;34m\u001b[0m\u001b[0;34m\u001b[0m\u001b[0;34m\u001b[0m\u001b[0m\n\u001b[1;32m    227\u001b[0m             \u001b[0;31m# raise ValueError if only scalars in dict\u001b[0m\u001b[0;34m\u001b[0m\u001b[0;34m\u001b[0m\u001b[0;34m\u001b[0m\u001b[0m\n\u001b[0;32m--> 228\u001b[0;31m             \u001b[0mindex\u001b[0m \u001b[0;34m=\u001b[0m \u001b[0mextract_index\u001b[0m\u001b[0;34m(\u001b[0m\u001b[0marrays\u001b[0m\u001b[0;34m[\u001b[0m\u001b[0;34m~\u001b[0m\u001b[0mmissing\u001b[0m\u001b[0;34m]\u001b[0m\u001b[0;34m)\u001b[0m\u001b[0;34m\u001b[0m\u001b[0;34m\u001b[0m\u001b[0m\n\u001b[0m\u001b[1;32m    229\u001b[0m         \u001b[0;32melse\u001b[0m\u001b[0;34m:\u001b[0m\u001b[0;34m\u001b[0m\u001b[0;34m\u001b[0m\u001b[0m\n\u001b[1;32m    230\u001b[0m             \u001b[0mindex\u001b[0m \u001b[0;34m=\u001b[0m \u001b[0mensure_index\u001b[0m\u001b[0;34m(\u001b[0m\u001b[0mindex\u001b[0m\u001b[0;34m)\u001b[0m\u001b[0;34m\u001b[0m\u001b[0;34m\u001b[0m\u001b[0m\n",
      "\u001b[0;32m/usr/local/lib/python3.6/dist-packages/pandas/core/internals/construction.py\u001b[0m in \u001b[0;36mextract_index\u001b[0;34m(data)\u001b[0m\n\u001b[1;32m    353\u001b[0m \u001b[0;34m\u001b[0m\u001b[0m\n\u001b[1;32m    354\u001b[0m         \u001b[0;32mif\u001b[0m \u001b[0;32mnot\u001b[0m \u001b[0mindexes\u001b[0m \u001b[0;32mand\u001b[0m \u001b[0;32mnot\u001b[0m \u001b[0mraw_lengths\u001b[0m\u001b[0;34m:\u001b[0m\u001b[0;34m\u001b[0m\u001b[0;34m\u001b[0m\u001b[0m\n\u001b[0;32m--> 355\u001b[0;31m             \u001b[0;32mraise\u001b[0m \u001b[0mValueError\u001b[0m\u001b[0;34m(\u001b[0m\u001b[0;34m\"If using all scalar values, you must pass an index\"\u001b[0m\u001b[0;34m)\u001b[0m\u001b[0;34m\u001b[0m\u001b[0;34m\u001b[0m\u001b[0m\n\u001b[0m\u001b[1;32m    356\u001b[0m \u001b[0;34m\u001b[0m\u001b[0m\n\u001b[1;32m    357\u001b[0m         \u001b[0;32mif\u001b[0m \u001b[0mhave_series\u001b[0m\u001b[0;34m:\u001b[0m\u001b[0;34m\u001b[0m\u001b[0;34m\u001b[0m\u001b[0m\n",
      "\u001b[0;31mValueError\u001b[0m: If using all scalar values, you must pass an index"
     ]
    }
   ],
   "source": [
    "pd.DataFrame(mat['annotations'])"
   ]
  },
  {
   "cell_type": "code",
   "execution_count": 13,
   "metadata": {
    "colab": {
     "base_uri": "https://localhost:8080/",
     "height": 34
    },
    "colab_type": "code",
    "executionInfo": {
     "elapsed": 1594,
     "status": "ok",
     "timestamp": 1596989417974,
     "user": {
      "displayName": "Piotr Chaberski",
      "photoUrl": "",
      "userId": "02798827690844129152"
     },
     "user_tz": -120
    },
    "id": "EPMDEsAe-clH",
    "outputId": "7219d12e-7ef0-44e6-dd52-3f7d2bb73b84"
   },
   "outputs": [
    {
     "data": {
      "text/plain": [
       "numpy.dtype"
      ]
     },
     "execution_count": 13,
     "metadata": {
      "tags": []
     },
     "output_type": "execute_result"
    }
   ],
   "source": [
    "type(mat['annotations'].dtype)"
   ]
  },
  {
   "cell_type": "code",
   "execution_count": 14,
   "metadata": {
    "colab": {
     "base_uri": "https://localhost:8080/",
     "height": 85
    },
    "colab_type": "code",
    "executionInfo": {
     "elapsed": 8624,
     "status": "ok",
     "timestamp": 1596989527624,
     "user": {
      "displayName": "Piotr Chaberski",
      "photoUrl": "",
      "userId": "02798827690844129152"
     },
     "user_tz": -120
    },
    "id": "3MHWRzBP-fts",
    "outputId": "8c02d75b-0634-4066-f564-457759024b01"
   },
   "outputs": [
    {
     "name": "stdout",
     "output_type": "stream",
     "text": [
      "Collecting mat4py\n",
      "  Downloading https://files.pythonhosted.org/packages/c7/02/a6855d4e61f7b6484535c1a2500c207bc0772e9c70ea6a3e30c553a6e3ef/mat4py-0.4.3-py2.py3-none-any.whl\n",
      "Installing collected packages: mat4py\n",
      "Successfully installed mat4py-0.4.3\n"
     ]
    }
   ],
   "source": [
    "!pip install mat4py"
   ]
  },
  {
   "cell_type": "code",
   "execution_count": 16,
   "metadata": {
    "colab": {},
    "colab_type": "code",
    "executionInfo": {
     "elapsed": 862,
     "status": "ok",
     "timestamp": 1596989567634,
     "user": {
      "displayName": "Piotr Chaberski",
      "photoUrl": "",
      "userId": "02798827690844129152"
     },
     "user_tz": -120
    },
    "id": "jOh7Q0Kg_sa2"
   },
   "outputs": [],
   "source": [
    "from mat4py import loadmat"
   ]
  },
  {
   "cell_type": "code",
   "execution_count": 17,
   "metadata": {
    "colab": {},
    "colab_type": "code",
    "executionInfo": {
     "elapsed": 3113,
     "status": "ok",
     "timestamp": 1596989571508,
     "user": {
      "displayName": "Piotr Chaberski",
      "photoUrl": "",
      "userId": "02798827690844129152"
     },
     "user_tz": -120
    },
    "id": "jWRI7FEC_jFT"
   },
   "outputs": [],
   "source": [
    "data = loadmat('/content/cars_train_annos.mat')"
   ]
  },
  {
   "cell_type": "code",
   "execution_count": 24,
   "metadata": {
    "colab": {
     "base_uri": "https://localhost:8080/",
     "height": 34
    },
    "colab_type": "code",
    "executionInfo": {
     "elapsed": 2165,
     "status": "ok",
     "timestamp": 1596989683599,
     "user": {
      "displayName": "Piotr Chaberski",
      "photoUrl": "",
      "userId": "02798827690844129152"
     },
     "user_tz": -120
    },
    "id": "CIsM200N_o_b",
    "outputId": "4f75e3df-f01f-4165-a75e-ad68f339bdfc"
   },
   "outputs": [
    {
     "data": {
      "text/plain": [
       "dict_keys(['bbox_x1', 'bbox_y1', 'bbox_x2', 'bbox_y2', 'class', 'fname'])"
      ]
     },
     "execution_count": 24,
     "metadata": {
      "tags": []
     },
     "output_type": "execute_result"
    }
   ],
   "source": [
    "data['annotations'].keys()"
   ]
  },
  {
   "cell_type": "code",
   "execution_count": 38,
   "metadata": {
    "colab": {},
    "colab_type": "code",
    "executionInfo": {
     "elapsed": 936,
     "status": "ok",
     "timestamp": 1596989994302,
     "user": {
      "displayName": "Piotr Chaberski",
      "photoUrl": "",
      "userId": "02798827690844129152"
     },
     "user_tz": -120
    },
    "id": "TCijQNRw_wl4"
   },
   "outputs": [],
   "source": [
    "import pandas as pd\n",
    "import numpy as np"
   ]
  },
  {
   "cell_type": "code",
   "execution_count": 31,
   "metadata": {
    "colab": {},
    "colab_type": "code",
    "executionInfo": {
     "elapsed": 2199,
     "status": "ok",
     "timestamp": 1596989870701,
     "user": {
      "displayName": "Piotr Chaberski",
      "photoUrl": "",
      "userId": "02798827690844129152"
     },
     "user_tz": -120
    },
    "id": "E3Ij7jbTAOpr"
   },
   "outputs": [],
   "source": [
    "data_df = pd.DataFrame(data['annotations'])"
   ]
  },
  {
   "cell_type": "code",
   "execution_count": 27,
   "metadata": {
    "colab": {},
    "colab_type": "code",
    "executionInfo": {
     "elapsed": 2065,
     "status": "ok",
     "timestamp": 1596989796499,
     "user": {
      "displayName": "Piotr Chaberski",
      "photoUrl": "",
      "userId": "02798827690844129152"
     },
     "user_tz": -120
    },
    "id": "_wWhWHn-AcDW"
   },
   "outputs": [],
   "source": [
    "meta = loadmat('/content/cars_meta.mat')"
   ]
  },
  {
   "cell_type": "code",
   "execution_count": 32,
   "metadata": {
    "colab": {},
    "colab_type": "code",
    "executionInfo": {
     "elapsed": 5762,
     "status": "ok",
     "timestamp": 1596989888827,
     "user": {
      "displayName": "Piotr Chaberski",
      "photoUrl": "",
      "userId": "02798827690844129152"
     },
     "user_tz": -120
    },
    "id": "WG5HYlLHAmhT"
   },
   "outputs": [],
   "source": [
    "meta_df = pd.DataFrame(meta['class_names'])"
   ]
  },
  {
   "cell_type": "code",
   "execution_count": 33,
   "metadata": {
    "colab": {
     "base_uri": "https://localhost:8080/",
     "height": 419
    },
    "colab_type": "code",
    "executionInfo": {
     "elapsed": 4047,
     "status": "ok",
     "timestamp": 1596989893978,
     "user": {
      "displayName": "Piotr Chaberski",
      "photoUrl": "",
      "userId": "02798827690844129152"
     },
     "user_tz": -120
    },
    "id": "wwIGU0Z9Aovn",
    "outputId": "abbdc117-5f6a-4ddc-e643-8711df954126"
   },
   "outputs": [
    {
     "data": {
      "text/html": [
       "<div>\n",
       "<style scoped>\n",
       "    .dataframe tbody tr th:only-of-type {\n",
       "        vertical-align: middle;\n",
       "    }\n",
       "\n",
       "    .dataframe tbody tr th {\n",
       "        vertical-align: top;\n",
       "    }\n",
       "\n",
       "    .dataframe thead th {\n",
       "        text-align: right;\n",
       "    }\n",
       "</style>\n",
       "<table border=\"1\" class=\"dataframe\">\n",
       "  <thead>\n",
       "    <tr style=\"text-align: right;\">\n",
       "      <th></th>\n",
       "      <th>bbox_x1</th>\n",
       "      <th>bbox_y1</th>\n",
       "      <th>bbox_x2</th>\n",
       "      <th>bbox_y2</th>\n",
       "      <th>class</th>\n",
       "      <th>fname</th>\n",
       "    </tr>\n",
       "  </thead>\n",
       "  <tbody>\n",
       "    <tr>\n",
       "      <th>0</th>\n",
       "      <td>39</td>\n",
       "      <td>116</td>\n",
       "      <td>569</td>\n",
       "      <td>375</td>\n",
       "      <td>14</td>\n",
       "      <td>00001.jpg</td>\n",
       "    </tr>\n",
       "    <tr>\n",
       "      <th>1</th>\n",
       "      <td>36</td>\n",
       "      <td>116</td>\n",
       "      <td>868</td>\n",
       "      <td>587</td>\n",
       "      <td>3</td>\n",
       "      <td>00002.jpg</td>\n",
       "    </tr>\n",
       "    <tr>\n",
       "      <th>2</th>\n",
       "      <td>85</td>\n",
       "      <td>109</td>\n",
       "      <td>601</td>\n",
       "      <td>381</td>\n",
       "      <td>91</td>\n",
       "      <td>00003.jpg</td>\n",
       "    </tr>\n",
       "    <tr>\n",
       "      <th>3</th>\n",
       "      <td>621</td>\n",
       "      <td>393</td>\n",
       "      <td>1484</td>\n",
       "      <td>1096</td>\n",
       "      <td>134</td>\n",
       "      <td>00004.jpg</td>\n",
       "    </tr>\n",
       "    <tr>\n",
       "      <th>4</th>\n",
       "      <td>14</td>\n",
       "      <td>36</td>\n",
       "      <td>133</td>\n",
       "      <td>99</td>\n",
       "      <td>106</td>\n",
       "      <td>00005.jpg</td>\n",
       "    </tr>\n",
       "    <tr>\n",
       "      <th>...</th>\n",
       "      <td>...</td>\n",
       "      <td>...</td>\n",
       "      <td>...</td>\n",
       "      <td>...</td>\n",
       "      <td>...</td>\n",
       "      <td>...</td>\n",
       "    </tr>\n",
       "    <tr>\n",
       "      <th>8139</th>\n",
       "      <td>3</td>\n",
       "      <td>44</td>\n",
       "      <td>423</td>\n",
       "      <td>336</td>\n",
       "      <td>78</td>\n",
       "      <td>08140.jpg</td>\n",
       "    </tr>\n",
       "    <tr>\n",
       "      <th>8140</th>\n",
       "      <td>138</td>\n",
       "      <td>150</td>\n",
       "      <td>706</td>\n",
       "      <td>523</td>\n",
       "      <td>196</td>\n",
       "      <td>08141.jpg</td>\n",
       "    </tr>\n",
       "    <tr>\n",
       "      <th>8141</th>\n",
       "      <td>26</td>\n",
       "      <td>246</td>\n",
       "      <td>660</td>\n",
       "      <td>449</td>\n",
       "      <td>163</td>\n",
       "      <td>08142.jpg</td>\n",
       "    </tr>\n",
       "    <tr>\n",
       "      <th>8142</th>\n",
       "      <td>78</td>\n",
       "      <td>526</td>\n",
       "      <td>1489</td>\n",
       "      <td>908</td>\n",
       "      <td>112</td>\n",
       "      <td>08143.jpg</td>\n",
       "    </tr>\n",
       "    <tr>\n",
       "      <th>8143</th>\n",
       "      <td>20</td>\n",
       "      <td>240</td>\n",
       "      <td>862</td>\n",
       "      <td>677</td>\n",
       "      <td>17</td>\n",
       "      <td>08144.jpg</td>\n",
       "    </tr>\n",
       "  </tbody>\n",
       "</table>\n",
       "<p>8144 rows × 6 columns</p>\n",
       "</div>"
      ],
      "text/plain": [
       "      bbox_x1  bbox_y1  bbox_x2  bbox_y2  class      fname\n",
       "0          39      116      569      375     14  00001.jpg\n",
       "1          36      116      868      587      3  00002.jpg\n",
       "2          85      109      601      381     91  00003.jpg\n",
       "3         621      393     1484     1096    134  00004.jpg\n",
       "4          14       36      133       99    106  00005.jpg\n",
       "...       ...      ...      ...      ...    ...        ...\n",
       "8139        3       44      423      336     78  08140.jpg\n",
       "8140      138      150      706      523    196  08141.jpg\n",
       "8141       26      246      660      449    163  08142.jpg\n",
       "8142       78      526     1489      908    112  08143.jpg\n",
       "8143       20      240      862      677     17  08144.jpg\n",
       "\n",
       "[8144 rows x 6 columns]"
      ]
     },
     "execution_count": 33,
     "metadata": {
      "tags": []
     },
     "output_type": "execute_result"
    }
   ],
   "source": [
    "data_df"
   ]
  },
  {
   "cell_type": "code",
   "execution_count": 41,
   "metadata": {
    "colab": {
     "base_uri": "https://localhost:8080/",
     "height": 419
    },
    "colab_type": "code",
    "executionInfo": {
     "elapsed": 954,
     "status": "ok",
     "timestamp": 1596990201784,
     "user": {
      "displayName": "Piotr Chaberski",
      "photoUrl": "",
      "userId": "02798827690844129152"
     },
     "user_tz": -120
    },
    "id": "BiGIkqlqA9wX",
    "outputId": "c1de5954-13c8-499d-ed0c-157cc1cb9fa1"
   },
   "outputs": [
    {
     "data": {
      "text/html": [
       "<div>\n",
       "<style scoped>\n",
       "    .dataframe tbody tr th:only-of-type {\n",
       "        vertical-align: middle;\n",
       "    }\n",
       "\n",
       "    .dataframe tbody tr th {\n",
       "        vertical-align: top;\n",
       "    }\n",
       "\n",
       "    .dataframe thead th {\n",
       "        text-align: right;\n",
       "    }\n",
       "</style>\n",
       "<table border=\"1\" class=\"dataframe\">\n",
       "  <thead>\n",
       "    <tr style=\"text-align: right;\">\n",
       "      <th></th>\n",
       "      <th>0</th>\n",
       "    </tr>\n",
       "  </thead>\n",
       "  <tbody>\n",
       "    <tr>\n",
       "      <th>0</th>\n",
       "      <td>AM General Hummer SUV 2000</td>\n",
       "    </tr>\n",
       "    <tr>\n",
       "      <th>1</th>\n",
       "      <td>Acura RL Sedan 2012</td>\n",
       "    </tr>\n",
       "    <tr>\n",
       "      <th>2</th>\n",
       "      <td>Acura TL Sedan 2012</td>\n",
       "    </tr>\n",
       "    <tr>\n",
       "      <th>3</th>\n",
       "      <td>Acura TL Type-S 2008</td>\n",
       "    </tr>\n",
       "    <tr>\n",
       "      <th>4</th>\n",
       "      <td>Acura TSX Sedan 2012</td>\n",
       "    </tr>\n",
       "    <tr>\n",
       "      <th>...</th>\n",
       "      <td>...</td>\n",
       "    </tr>\n",
       "    <tr>\n",
       "      <th>191</th>\n",
       "      <td>Volkswagen Beetle Hatchback 2012</td>\n",
       "    </tr>\n",
       "    <tr>\n",
       "      <th>192</th>\n",
       "      <td>Volvo C30 Hatchback 2012</td>\n",
       "    </tr>\n",
       "    <tr>\n",
       "      <th>193</th>\n",
       "      <td>Volvo 240 Sedan 1993</td>\n",
       "    </tr>\n",
       "    <tr>\n",
       "      <th>194</th>\n",
       "      <td>Volvo XC90 SUV 2007</td>\n",
       "    </tr>\n",
       "    <tr>\n",
       "      <th>195</th>\n",
       "      <td>smart fortwo Convertible 2012</td>\n",
       "    </tr>\n",
       "  </tbody>\n",
       "</table>\n",
       "<p>196 rows × 1 columns</p>\n",
       "</div>"
      ],
      "text/plain": [
       "                                    0\n",
       "0          AM General Hummer SUV 2000\n",
       "1                 Acura RL Sedan 2012\n",
       "2                 Acura TL Sedan 2012\n",
       "3                Acura TL Type-S 2008\n",
       "4                Acura TSX Sedan 2012\n",
       "..                                ...\n",
       "191  Volkswagen Beetle Hatchback 2012\n",
       "192          Volvo C30 Hatchback 2012\n",
       "193              Volvo 240 Sedan 1993\n",
       "194               Volvo XC90 SUV 2007\n",
       "195     smart fortwo Convertible 2012\n",
       "\n",
       "[196 rows x 1 columns]"
      ]
     },
     "execution_count": 41,
     "metadata": {
      "tags": []
     },
     "output_type": "execute_result"
    }
   ],
   "source": [
    "meta_df"
   ]
  },
  {
   "cell_type": "code",
   "execution_count": 39,
   "metadata": {
    "colab": {
     "base_uri": "https://localhost:8080/",
     "height": 289
    },
    "colab_type": "code",
    "executionInfo": {
     "elapsed": 1410,
     "status": "ok",
     "timestamp": 1596990005934,
     "user": {
      "displayName": "Piotr Chaberski",
      "photoUrl": "",
      "userId": "02798827690844129152"
     },
     "user_tz": -120
    },
    "id": "XIH9Io8KA-jq",
    "outputId": "27f5f9f5-ba9b-43f0-8336-198445bee665"
   },
   "outputs": [
    {
     "data": {
      "text/plain": [
       "array([  1,   2,   3,   4,   5,   6,   7,   8,   9,  10,  11,  12,  13,\n",
       "        14,  15,  16,  17,  18,  19,  20,  21,  22,  23,  24,  25,  26,\n",
       "        27,  28,  29,  30,  31,  32,  33,  34,  35,  36,  37,  38,  39,\n",
       "        40,  41,  42,  43,  44,  45,  46,  47,  48,  49,  50,  51,  52,\n",
       "        53,  54,  55,  56,  57,  58,  59,  60,  61,  62,  63,  64,  65,\n",
       "        66,  67,  68,  69,  70,  71,  72,  73,  74,  75,  76,  77,  78,\n",
       "        79,  80,  81,  82,  83,  84,  85,  86,  87,  88,  89,  90,  91,\n",
       "        92,  93,  94,  95,  96,  97,  98,  99, 100, 101, 102, 103, 104,\n",
       "       105, 106, 107, 108, 109, 110, 111, 112, 113, 114, 115, 116, 117,\n",
       "       118, 119, 120, 121, 122, 123, 124, 125, 126, 127, 128, 129, 130,\n",
       "       131, 132, 133, 134, 135, 136, 137, 138, 139, 140, 141, 142, 143,\n",
       "       144, 145, 146, 147, 148, 149, 150, 151, 152, 153, 154, 155, 156,\n",
       "       157, 158, 159, 160, 161, 162, 163, 164, 165, 166, 167, 168, 169,\n",
       "       170, 171, 172, 173, 174, 175, 176, 177, 178, 179, 180, 181, 182,\n",
       "       183, 184, 185, 186, 187, 188, 189, 190, 191, 192, 193, 194, 195,\n",
       "       196])"
      ]
     },
     "execution_count": 39,
     "metadata": {
      "tags": []
     },
     "output_type": "execute_result"
    }
   ],
   "source": [
    "np.sort(data_df['class'].unique())"
   ]
  },
  {
   "cell_type": "code",
   "execution_count": 46,
   "metadata": {
    "colab": {},
    "colab_type": "code",
    "executionInfo": {
     "elapsed": 1111,
     "status": "ok",
     "timestamp": 1596990299765,
     "user": {
      "displayName": "Piotr Chaberski",
      "photoUrl": "",
      "userId": "02798827690844129152"
     },
     "user_tz": -120
    },
    "id": "VI1aqvvpBGCS"
   },
   "outputs": [],
   "source": [
    "meta_df.columns = ['make']"
   ]
  },
  {
   "cell_type": "code",
   "execution_count": 47,
   "metadata": {
    "colab": {
     "base_uri": "https://localhost:8080/",
     "height": 34
    },
    "colab_type": "code",
    "executionInfo": {
     "elapsed": 1916,
     "status": "ok",
     "timestamp": 1596990308950,
     "user": {
      "displayName": "Piotr Chaberski",
      "photoUrl": "",
      "userId": "02798827690844129152"
     },
     "user_tz": -120
    },
    "id": "xlqN602wCjYI",
    "outputId": "2ade610e-4fa4-4544-805c-87c44f0cfe47"
   },
   "outputs": [
    {
     "data": {
      "text/plain": [
       "Index(['make'], dtype='object')"
      ]
     },
     "execution_count": 47,
     "metadata": {
      "tags": []
     },
     "output_type": "execute_result"
    }
   ],
   "source": [
    "meta_df.columns"
   ]
  },
  {
   "cell_type": "code",
   "execution_count": 50,
   "metadata": {
    "colab": {
     "base_uri": "https://localhost:8080/",
     "height": 1000
    },
    "colab_type": "code",
    "executionInfo": {
     "elapsed": 968,
     "status": "ok",
     "timestamp": 1596990335579,
     "user": {
      "displayName": "Piotr Chaberski",
      "photoUrl": "",
      "userId": "02798827690844129152"
     },
     "user_tz": -120
    },
    "id": "ORetadm6CSum",
    "outputId": "711baa85-7885-48e8-d4e6-9644d87f7d9e"
   },
   "outputs": [
    {
     "data": {
      "text/plain": [
       "['AM General Hummer SUV 2000',\n",
       " 'Acura RL Sedan 2012',\n",
       " 'Acura TL Sedan 2012',\n",
       " 'Acura TL Type-S 2008',\n",
       " 'Acura TSX Sedan 2012',\n",
       " 'Acura Integra Type R 2001',\n",
       " 'Acura ZDX Hatchback 2012',\n",
       " 'Aston Martin V8 Vantage Convertible 2012',\n",
       " 'Aston Martin V8 Vantage Coupe 2012',\n",
       " 'Aston Martin Virage Convertible 2012',\n",
       " 'Aston Martin Virage Coupe 2012',\n",
       " 'Audi RS 4 Convertible 2008',\n",
       " 'Audi A5 Coupe 2012',\n",
       " 'Audi TTS Coupe 2012',\n",
       " 'Audi R8 Coupe 2012',\n",
       " 'Audi V8 Sedan 1994',\n",
       " 'Audi 100 Sedan 1994',\n",
       " 'Audi 100 Wagon 1994',\n",
       " 'Audi TT Hatchback 2011',\n",
       " 'Audi S6 Sedan 2011',\n",
       " 'Audi S5 Convertible 2012',\n",
       " 'Audi S5 Coupe 2012',\n",
       " 'Audi S4 Sedan 2012',\n",
       " 'Audi S4 Sedan 2007',\n",
       " 'Audi TT RS Coupe 2012',\n",
       " 'BMW ActiveHybrid 5 Sedan 2012',\n",
       " 'BMW 1 Series Convertible 2012',\n",
       " 'BMW 1 Series Coupe 2012',\n",
       " 'BMW 3 Series Sedan 2012',\n",
       " 'BMW 3 Series Wagon 2012',\n",
       " 'BMW 6 Series Convertible 2007',\n",
       " 'BMW X5 SUV 2007',\n",
       " 'BMW X6 SUV 2012',\n",
       " 'BMW M3 Coupe 2012',\n",
       " 'BMW M5 Sedan 2010',\n",
       " 'BMW M6 Convertible 2010',\n",
       " 'BMW X3 SUV 2012',\n",
       " 'BMW Z4 Convertible 2012',\n",
       " 'Bentley Continental Supersports Conv. Convertible 2012',\n",
       " 'Bentley Arnage Sedan 2009',\n",
       " 'Bentley Mulsanne Sedan 2011',\n",
       " 'Bentley Continental GT Coupe 2012',\n",
       " 'Bentley Continental GT Coupe 2007',\n",
       " 'Bentley Continental Flying Spur Sedan 2007',\n",
       " 'Bugatti Veyron 16.4 Convertible 2009',\n",
       " 'Bugatti Veyron 16.4 Coupe 2009',\n",
       " 'Buick Regal GS 2012',\n",
       " 'Buick Rainier SUV 2007',\n",
       " 'Buick Verano Sedan 2012',\n",
       " 'Buick Enclave SUV 2012',\n",
       " 'Cadillac CTS-V Sedan 2012',\n",
       " 'Cadillac SRX SUV 2012',\n",
       " 'Cadillac Escalade EXT Crew Cab 2007',\n",
       " 'Chevrolet Silverado 1500 Hybrid Crew Cab 2012',\n",
       " 'Chevrolet Corvette Convertible 2012',\n",
       " 'Chevrolet Corvette ZR1 2012',\n",
       " 'Chevrolet Corvette Ron Fellows Edition Z06 2007',\n",
       " 'Chevrolet Traverse SUV 2012',\n",
       " 'Chevrolet Camaro Convertible 2012',\n",
       " 'Chevrolet HHR SS 2010',\n",
       " 'Chevrolet Impala Sedan 2007',\n",
       " 'Chevrolet Tahoe Hybrid SUV 2012',\n",
       " 'Chevrolet Sonic Sedan 2012',\n",
       " 'Chevrolet Express Cargo Van 2007',\n",
       " 'Chevrolet Avalanche Crew Cab 2012',\n",
       " 'Chevrolet Cobalt SS 2010',\n",
       " 'Chevrolet Malibu Hybrid Sedan 2010',\n",
       " 'Chevrolet TrailBlazer SS 2009',\n",
       " 'Chevrolet Silverado 2500HD Regular Cab 2012',\n",
       " 'Chevrolet Silverado 1500 Classic Extended Cab 2007',\n",
       " 'Chevrolet Express Van 2007',\n",
       " 'Chevrolet Monte Carlo Coupe 2007',\n",
       " 'Chevrolet Malibu Sedan 2007',\n",
       " 'Chevrolet Silverado 1500 Extended Cab 2012',\n",
       " 'Chevrolet Silverado 1500 Regular Cab 2012',\n",
       " 'Chrysler Aspen SUV 2009',\n",
       " 'Chrysler Sebring Convertible 2010',\n",
       " 'Chrysler Town and Country Minivan 2012',\n",
       " 'Chrysler 300 SRT-8 2010',\n",
       " 'Chrysler Crossfire Convertible 2008',\n",
       " 'Chrysler PT Cruiser Convertible 2008',\n",
       " 'Daewoo Nubira Wagon 2002',\n",
       " 'Dodge Caliber Wagon 2012',\n",
       " 'Dodge Caliber Wagon 2007',\n",
       " 'Dodge Caravan Minivan 1997',\n",
       " 'Dodge Ram Pickup 3500 Crew Cab 2010',\n",
       " 'Dodge Ram Pickup 3500 Quad Cab 2009',\n",
       " 'Dodge Sprinter Cargo Van 2009',\n",
       " 'Dodge Journey SUV 2012',\n",
       " 'Dodge Dakota Crew Cab 2010',\n",
       " 'Dodge Dakota Club Cab 2007',\n",
       " 'Dodge Magnum Wagon 2008',\n",
       " 'Dodge Challenger SRT8 2011',\n",
       " 'Dodge Durango SUV 2012',\n",
       " 'Dodge Durango SUV 2007',\n",
       " 'Dodge Charger Sedan 2012',\n",
       " 'Dodge Charger SRT-8 2009',\n",
       " 'Eagle Talon Hatchback 1998',\n",
       " 'FIAT 500 Abarth 2012',\n",
       " 'FIAT 500 Convertible 2012',\n",
       " 'Ferrari FF Coupe 2012',\n",
       " 'Ferrari California Convertible 2012',\n",
       " 'Ferrari 458 Italia Convertible 2012',\n",
       " 'Ferrari 458 Italia Coupe 2012',\n",
       " 'Fisker Karma Sedan 2012',\n",
       " 'Ford F-450 Super Duty Crew Cab 2012',\n",
       " 'Ford Mustang Convertible 2007',\n",
       " 'Ford Freestar Minivan 2007',\n",
       " 'Ford Expedition EL SUV 2009',\n",
       " 'Ford Edge SUV 2012',\n",
       " 'Ford Ranger SuperCab 2011',\n",
       " 'Ford GT Coupe 2006',\n",
       " 'Ford F-150 Regular Cab 2012',\n",
       " 'Ford F-150 Regular Cab 2007',\n",
       " 'Ford Focus Sedan 2007',\n",
       " 'Ford E-Series Wagon Van 2012',\n",
       " 'Ford Fiesta Sedan 2012',\n",
       " 'GMC Terrain SUV 2012',\n",
       " 'GMC Savana Van 2012',\n",
       " 'GMC Yukon Hybrid SUV 2012',\n",
       " 'GMC Acadia SUV 2012',\n",
       " 'GMC Canyon Extended Cab 2012',\n",
       " 'Geo Metro Convertible 1993',\n",
       " 'HUMMER H3T Crew Cab 2010',\n",
       " 'HUMMER H2 SUT Crew Cab 2009',\n",
       " 'Honda Odyssey Minivan 2012',\n",
       " 'Honda Odyssey Minivan 2007',\n",
       " 'Honda Accord Coupe 2012',\n",
       " 'Honda Accord Sedan 2012',\n",
       " 'Hyundai Veloster Hatchback 2012',\n",
       " 'Hyundai Santa Fe SUV 2012',\n",
       " 'Hyundai Tucson SUV 2012',\n",
       " 'Hyundai Veracruz SUV 2012',\n",
       " 'Hyundai Sonata Hybrid Sedan 2012',\n",
       " 'Hyundai Elantra Sedan 2007',\n",
       " 'Hyundai Accent Sedan 2012',\n",
       " 'Hyundai Genesis Sedan 2012',\n",
       " 'Hyundai Sonata Sedan 2012',\n",
       " 'Hyundai Elantra Touring Hatchback 2012',\n",
       " 'Hyundai Azera Sedan 2012',\n",
       " 'Infiniti G Coupe IPL 2012',\n",
       " 'Infiniti QX56 SUV 2011',\n",
       " 'Isuzu Ascender SUV 2008',\n",
       " 'Jaguar XK XKR 2012',\n",
       " 'Jeep Patriot SUV 2012',\n",
       " 'Jeep Wrangler SUV 2012',\n",
       " 'Jeep Liberty SUV 2012',\n",
       " 'Jeep Grand Cherokee SUV 2012',\n",
       " 'Jeep Compass SUV 2012',\n",
       " 'Lamborghini Reventon Coupe 2008',\n",
       " 'Lamborghini Aventador Coupe 2012',\n",
       " 'Lamborghini Gallardo LP 570-4 Superleggera 2012',\n",
       " 'Lamborghini Diablo Coupe 2001',\n",
       " 'Land Rover Range Rover SUV 2012',\n",
       " 'Land Rover LR2 SUV 2012',\n",
       " 'Lincoln Town Car Sedan 2011',\n",
       " 'MINI Cooper Roadster Convertible 2012',\n",
       " 'Maybach Landaulet Convertible 2012',\n",
       " 'Mazda Tribute SUV 2011',\n",
       " 'McLaren MP4-12C Coupe 2012',\n",
       " 'Mercedes-Benz 300-Class Convertible 1993',\n",
       " 'Mercedes-Benz C-Class Sedan 2012',\n",
       " 'Mercedes-Benz SL-Class Coupe 2009',\n",
       " 'Mercedes-Benz E-Class Sedan 2012',\n",
       " 'Mercedes-Benz S-Class Sedan 2012',\n",
       " 'Mercedes-Benz Sprinter Van 2012',\n",
       " 'Mitsubishi Lancer Sedan 2012',\n",
       " 'Nissan Leaf Hatchback 2012',\n",
       " 'Nissan NV Passenger Van 2012',\n",
       " 'Nissan Juke Hatchback 2012',\n",
       " 'Nissan 240SX Coupe 1998',\n",
       " 'Plymouth Neon Coupe 1999',\n",
       " 'Porsche Panamera Sedan 2012',\n",
       " 'Ram C/V Cargo Van Minivan 2012',\n",
       " 'Rolls-Royce Phantom Drophead Coupe Convertible 2012',\n",
       " 'Rolls-Royce Ghost Sedan 2012',\n",
       " 'Rolls-Royce Phantom Sedan 2012',\n",
       " 'Scion xD Hatchback 2012',\n",
       " 'Spyker C8 Convertible 2009',\n",
       " 'Spyker C8 Coupe 2009',\n",
       " 'Suzuki Aerio Sedan 2007',\n",
       " 'Suzuki Kizashi Sedan 2012',\n",
       " 'Suzuki SX4 Hatchback 2012',\n",
       " 'Suzuki SX4 Sedan 2012',\n",
       " 'Tesla Model S Sedan 2012',\n",
       " 'Toyota Sequoia SUV 2012',\n",
       " 'Toyota Camry Sedan 2012',\n",
       " 'Toyota Corolla Sedan 2012',\n",
       " 'Toyota 4Runner SUV 2012',\n",
       " 'Volkswagen Golf Hatchback 2012',\n",
       " 'Volkswagen Golf Hatchback 1991',\n",
       " 'Volkswagen Beetle Hatchback 2012',\n",
       " 'Volvo C30 Hatchback 2012',\n",
       " 'Volvo 240 Sedan 1993',\n",
       " 'Volvo XC90 SUV 2007',\n",
       " 'smart fortwo Convertible 2012']"
      ]
     },
     "execution_count": 50,
     "metadata": {
      "tags": []
     },
     "output_type": "execute_result"
    }
   ],
   "source": [
    "list(meta_df['make'])"
   ]
  },
  {
   "cell_type": "code",
   "execution_count": null,
   "metadata": {
    "colab": {},
    "colab_type": "code",
    "id": "kIWRfFJPCmKm"
   },
   "outputs": [],
   "source": []
  },
  {
   "cell_type": "markdown",
   "metadata": {
    "colab_type": "text",
    "id": "2eumAAEYZjbC"
   },
   "source": [
    "---"
   ]
  },
  {
   "cell_type": "code",
   "execution_count": 1,
   "metadata": {
    "colab": {
     "base_uri": "https://localhost:8080/",
     "height": 1000
    },
    "colab_type": "code",
    "executionInfo": {
     "elapsed": 32597,
     "status": "ok",
     "timestamp": 1596996533446,
     "user": {
      "displayName": "Piotr Chaberski",
      "photoUrl": "",
      "userId": "02798827690844129152"
     },
     "user_tz": -120
    },
    "id": "JiKTe2N4ZpRb",
    "outputId": "984bda86-0843-474a-ffed-790b631570ff"
   },
   "outputs": [
    {
     "name": "stdout",
     "output_type": "stream",
     "text": [
      "Collecting pandas==1.1.0\n",
      "\u001b[?25l  Downloading https://files.pythonhosted.org/packages/a7/f7/2adca20a7fa71b6a32f823bbd83992adeceab1d8bf72992bb7a55c69c19a/pandas-1.1.0-cp36-cp36m-manylinux1_x86_64.whl (10.5MB)\n",
      "\u001b[K     |████████████████████████████████| 10.5MB 5.1MB/s \n",
      "\u001b[?25hCollecting numpy==1.19.1\n",
      "\u001b[?25l  Downloading https://files.pythonhosted.org/packages/b1/9a/7d474ba0860a41f771c9523d8c4ea56b084840b5ca4092d96bdee8a3b684/numpy-1.19.1-cp36-cp36m-manylinux2010_x86_64.whl (14.5MB)\n",
      "\u001b[K     |████████████████████████████████| 14.5MB 234kB/s \n",
      "\u001b[?25hCollecting mat4py==0.4.3\n",
      "  Downloading https://files.pythonhosted.org/packages/c7/02/a6855d4e61f7b6484535c1a2500c207bc0772e9c70ea6a3e30c553a6e3ef/mat4py-0.4.3-py2.py3-none-any.whl\n",
      "Requirement already satisfied: torch==1.6.0 in /usr/local/lib/python3.6/dist-packages (from -r requirements.txt (line 4)) (1.6.0+cu101)\n",
      "Requirement already satisfied: torchvision==0.7.0 in /usr/local/lib/python3.6/dist-packages (from -r requirements.txt (line 5)) (0.7.0+cu101)\n",
      "Collecting pytorch-lightning==0.8.5\n",
      "\u001b[?25l  Downloading https://files.pythonhosted.org/packages/32/64/65a5bd6b0c286217f2e53bb067c4099c0584a8eff1d229046b9a35ae3e26/pytorch_lightning-0.8.5-py3-none-any.whl (313kB)\n",
      "\u001b[K     |████████████████████████████████| 317kB 52.7MB/s \n",
      "\u001b[?25hCollecting matplotlib==3.3.0\n",
      "\u001b[?25l  Downloading https://files.pythonhosted.org/packages/93/ae/81b1c98ae97350711adb021ee12ea678b37f608ec2faa35c3a7db11795fa/matplotlib-3.3.0-1-cp36-cp36m-manylinux1_x86_64.whl (11.5MB)\n",
      "\u001b[K     |████████████████████████████████| 11.5MB 128kB/s \n",
      "\u001b[?25hCollecting jupyterlab==2.2.4\n",
      "\u001b[?25l  Downloading https://files.pythonhosted.org/packages/15/6d/1b10363ecb6e40a99a68ac60a60c273a33f47eff8887cb33a1d26395159b/jupyterlab-2.2.4-py3-none-any.whl (7.8MB)\n",
      "\u001b[K     |████████████████████████████████| 7.8MB 49.0MB/s \n",
      "\u001b[?25hRequirement already satisfied: python-dateutil>=2.7.3 in /usr/local/lib/python3.6/dist-packages (from pandas==1.1.0->-r requirements.txt (line 1)) (2.8.1)\n",
      "Requirement already satisfied: pytz>=2017.2 in /usr/local/lib/python3.6/dist-packages (from pandas==1.1.0->-r requirements.txt (line 1)) (2018.9)\n",
      "Requirement already satisfied: future in /usr/local/lib/python3.6/dist-packages (from torch==1.6.0->-r requirements.txt (line 4)) (0.16.0)\n",
      "Requirement already satisfied: pillow>=4.1.1 in /usr/local/lib/python3.6/dist-packages (from torchvision==0.7.0->-r requirements.txt (line 5)) (7.0.0)\n",
      "Requirement already satisfied: tqdm>=4.41.0 in /usr/local/lib/python3.6/dist-packages (from pytorch-lightning==0.8.5->-r requirements.txt (line 6)) (4.41.1)\n",
      "Collecting PyYAML>=5.1\n",
      "\u001b[?25l  Downloading https://files.pythonhosted.org/packages/64/c2/b80047c7ac2478f9501676c988a5411ed5572f35d1beff9cae07d321512c/PyYAML-5.3.1.tar.gz (269kB)\n",
      "\u001b[K     |████████████████████████████████| 276kB 55.7MB/s \n",
      "\u001b[?25hRequirement already satisfied: tensorboard>=1.14 in /usr/local/lib/python3.6/dist-packages (from pytorch-lightning==0.8.5->-r requirements.txt (line 6)) (2.3.0)\n",
      "Requirement already satisfied: cycler>=0.10 in /usr/local/lib/python3.6/dist-packages (from matplotlib==3.3.0->-r requirements.txt (line 7)) (0.10.0)\n",
      "Requirement already satisfied: pyparsing!=2.0.4,!=2.1.2,!=2.1.6,>=2.0.3 in /usr/local/lib/python3.6/dist-packages (from matplotlib==3.3.0->-r requirements.txt (line 7)) (2.4.7)\n",
      "Requirement already satisfied: kiwisolver>=1.0.1 in /usr/local/lib/python3.6/dist-packages (from matplotlib==3.3.0->-r requirements.txt (line 7)) (1.2.0)\n",
      "Requirement already satisfied: tornado!=6.0.0,!=6.0.1,!=6.0.2 in /usr/local/lib/python3.6/dist-packages (from jupyterlab==2.2.4->-r requirements.txt (line 8)) (5.1.1)\n",
      "Collecting jupyterlab-server<2.0,>=1.1.5\n",
      "  Downloading https://files.pythonhosted.org/packages/b4/eb/560043dcd8376328f8b98869efed66ef68307278406ab99c7f63a34d4ae2/jupyterlab_server-1.2.0-py3-none-any.whl\n",
      "Requirement already satisfied: jinja2>=2.10 in /usr/local/lib/python3.6/dist-packages (from jupyterlab==2.2.4->-r requirements.txt (line 8)) (2.11.2)\n",
      "Requirement already satisfied: notebook>=4.3.1 in /usr/local/lib/python3.6/dist-packages (from jupyterlab==2.2.4->-r requirements.txt (line 8)) (5.3.1)\n",
      "Requirement already satisfied: six>=1.5 in /usr/local/lib/python3.6/dist-packages (from python-dateutil>=2.7.3->pandas==1.1.0->-r requirements.txt (line 1)) (1.15.0)\n",
      "Requirement already satisfied: absl-py>=0.4 in /usr/local/lib/python3.6/dist-packages (from tensorboard>=1.14->pytorch-lightning==0.8.5->-r requirements.txt (line 6)) (0.9.0)\n",
      "Requirement already satisfied: google-auth-oauthlib<0.5,>=0.4.1 in /usr/local/lib/python3.6/dist-packages (from tensorboard>=1.14->pytorch-lightning==0.8.5->-r requirements.txt (line 6)) (0.4.1)\n",
      "Requirement already satisfied: markdown>=2.6.8 in /usr/local/lib/python3.6/dist-packages (from tensorboard>=1.14->pytorch-lightning==0.8.5->-r requirements.txt (line 6)) (3.2.2)\n",
      "Requirement already satisfied: google-auth<2,>=1.6.3 in /usr/local/lib/python3.6/dist-packages (from tensorboard>=1.14->pytorch-lightning==0.8.5->-r requirements.txt (line 6)) (1.17.2)\n",
      "Requirement already satisfied: werkzeug>=0.11.15 in /usr/local/lib/python3.6/dist-packages (from tensorboard>=1.14->pytorch-lightning==0.8.5->-r requirements.txt (line 6)) (1.0.1)\n",
      "Requirement already satisfied: protobuf>=3.6.0 in /usr/local/lib/python3.6/dist-packages (from tensorboard>=1.14->pytorch-lightning==0.8.5->-r requirements.txt (line 6)) (3.12.4)\n",
      "Requirement already satisfied: setuptools>=41.0.0 in /usr/local/lib/python3.6/dist-packages (from tensorboard>=1.14->pytorch-lightning==0.8.5->-r requirements.txt (line 6)) (49.2.0)\n",
      "Requirement already satisfied: tensorboard-plugin-wit>=1.6.0 in /usr/local/lib/python3.6/dist-packages (from tensorboard>=1.14->pytorch-lightning==0.8.5->-r requirements.txt (line 6)) (1.7.0)\n",
      "Requirement already satisfied: wheel>=0.26; python_version >= \"3\" in /usr/local/lib/python3.6/dist-packages (from tensorboard>=1.14->pytorch-lightning==0.8.5->-r requirements.txt (line 6)) (0.34.2)\n",
      "Requirement already satisfied: grpcio>=1.24.3 in /usr/local/lib/python3.6/dist-packages (from tensorboard>=1.14->pytorch-lightning==0.8.5->-r requirements.txt (line 6)) (1.30.0)\n",
      "Requirement already satisfied: requests<3,>=2.21.0 in /usr/local/lib/python3.6/dist-packages (from tensorboard>=1.14->pytorch-lightning==0.8.5->-r requirements.txt (line 6)) (2.23.0)\n",
      "Collecting jsonschema>=3.0.1\n",
      "\u001b[?25l  Downloading https://files.pythonhosted.org/packages/c5/8f/51e89ce52a085483359217bc72cdbf6e75ee595d5b1d4b5ade40c7e018b8/jsonschema-3.2.0-py2.py3-none-any.whl (56kB)\n",
      "\u001b[K     |████████████████████████████████| 61kB 9.6MB/s \n",
      "\u001b[?25hCollecting json5\n",
      "  Downloading https://files.pythonhosted.org/packages/2b/81/22bf51a5bc60dde18bb6164fd597f18ee683de8670e141364d9c432dd3cf/json5-0.9.5-py2.py3-none-any.whl\n",
      "Requirement already satisfied: MarkupSafe>=0.23 in /usr/local/lib/python3.6/dist-packages (from jinja2>=2.10->jupyterlab==2.2.4->-r requirements.txt (line 8)) (1.1.1)\n",
      "Requirement already satisfied: nbconvert in /usr/local/lib/python3.6/dist-packages (from notebook>=4.3.1->jupyterlab==2.2.4->-r requirements.txt (line 8)) (5.6.1)\n",
      "Requirement already satisfied: nbformat in /usr/local/lib/python3.6/dist-packages (from notebook>=4.3.1->jupyterlab==2.2.4->-r requirements.txt (line 8)) (5.0.7)\n",
      "Requirement already satisfied: ipykernel in /usr/local/lib/python3.6/dist-packages (from notebook>=4.3.1->jupyterlab==2.2.4->-r requirements.txt (line 8)) (4.10.1)\n",
      "Requirement already satisfied: Send2Trash in /usr/local/lib/python3.6/dist-packages (from notebook>=4.3.1->jupyterlab==2.2.4->-r requirements.txt (line 8)) (1.5.0)\n",
      "Requirement already satisfied: jupyter-core>=4.4.0 in /usr/local/lib/python3.6/dist-packages (from notebook>=4.3.1->jupyterlab==2.2.4->-r requirements.txt (line 8)) (4.6.3)\n",
      "Requirement already satisfied: ipython-genutils in /usr/local/lib/python3.6/dist-packages (from notebook>=4.3.1->jupyterlab==2.2.4->-r requirements.txt (line 8)) (0.2.0)\n",
      "Requirement already satisfied: terminado>=0.8.1 in /usr/local/lib/python3.6/dist-packages (from notebook>=4.3.1->jupyterlab==2.2.4->-r requirements.txt (line 8)) (0.8.3)\n",
      "Requirement already satisfied: traitlets>=4.2.1 in /usr/local/lib/python3.6/dist-packages (from notebook>=4.3.1->jupyterlab==2.2.4->-r requirements.txt (line 8)) (4.3.3)\n",
      "Requirement already satisfied: jupyter-client>=5.2.0 in /usr/local/lib/python3.6/dist-packages (from notebook>=4.3.1->jupyterlab==2.2.4->-r requirements.txt (line 8)) (5.3.5)\n",
      "Requirement already satisfied: requests-oauthlib>=0.7.0 in /usr/local/lib/python3.6/dist-packages (from google-auth-oauthlib<0.5,>=0.4.1->tensorboard>=1.14->pytorch-lightning==0.8.5->-r requirements.txt (line 6)) (1.3.0)\n",
      "Requirement already satisfied: importlib-metadata; python_version < \"3.8\" in /usr/local/lib/python3.6/dist-packages (from markdown>=2.6.8->tensorboard>=1.14->pytorch-lightning==0.8.5->-r requirements.txt (line 6)) (1.7.0)\n",
      "Requirement already satisfied: cachetools<5.0,>=2.0.0 in /usr/local/lib/python3.6/dist-packages (from google-auth<2,>=1.6.3->tensorboard>=1.14->pytorch-lightning==0.8.5->-r requirements.txt (line 6)) (4.1.1)\n",
      "Requirement already satisfied: pyasn1-modules>=0.2.1 in /usr/local/lib/python3.6/dist-packages (from google-auth<2,>=1.6.3->tensorboard>=1.14->pytorch-lightning==0.8.5->-r requirements.txt (line 6)) (0.2.8)\n",
      "Requirement already satisfied: rsa<5,>=3.1.4; python_version >= \"3\" in /usr/local/lib/python3.6/dist-packages (from google-auth<2,>=1.6.3->tensorboard>=1.14->pytorch-lightning==0.8.5->-r requirements.txt (line 6)) (4.6)\n",
      "Requirement already satisfied: chardet<4,>=3.0.2 in /usr/local/lib/python3.6/dist-packages (from requests<3,>=2.21.0->tensorboard>=1.14->pytorch-lightning==0.8.5->-r requirements.txt (line 6)) (3.0.4)\n",
      "Requirement already satisfied: certifi>=2017.4.17 in /usr/local/lib/python3.6/dist-packages (from requests<3,>=2.21.0->tensorboard>=1.14->pytorch-lightning==0.8.5->-r requirements.txt (line 6)) (2020.6.20)\n",
      "Requirement already satisfied: idna<3,>=2.5 in /usr/local/lib/python3.6/dist-packages (from requests<3,>=2.21.0->tensorboard>=1.14->pytorch-lightning==0.8.5->-r requirements.txt (line 6)) (2.10)\n",
      "Requirement already satisfied: urllib3!=1.25.0,!=1.25.1,<1.26,>=1.21.1 in /usr/local/lib/python3.6/dist-packages (from requests<3,>=2.21.0->tensorboard>=1.14->pytorch-lightning==0.8.5->-r requirements.txt (line 6)) (1.24.3)\n",
      "Requirement already satisfied: attrs>=17.4.0 in /usr/local/lib/python3.6/dist-packages (from jsonschema>=3.0.1->jupyterlab-server<2.0,>=1.1.5->jupyterlab==2.2.4->-r requirements.txt (line 8)) (19.3.0)\n",
      "Requirement already satisfied: pyrsistent>=0.14.0 in /usr/local/lib/python3.6/dist-packages (from jsonschema>=3.0.1->jupyterlab-server<2.0,>=1.1.5->jupyterlab==2.2.4->-r requirements.txt (line 8)) (0.16.0)\n",
      "Requirement already satisfied: defusedxml in /usr/local/lib/python3.6/dist-packages (from nbconvert->notebook>=4.3.1->jupyterlab==2.2.4->-r requirements.txt (line 8)) (0.6.0)\n",
      "Requirement already satisfied: testpath in /usr/local/lib/python3.6/dist-packages (from nbconvert->notebook>=4.3.1->jupyterlab==2.2.4->-r requirements.txt (line 8)) (0.4.4)\n",
      "Requirement already satisfied: bleach in /usr/local/lib/python3.6/dist-packages (from nbconvert->notebook>=4.3.1->jupyterlab==2.2.4->-r requirements.txt (line 8)) (3.1.5)\n",
      "Requirement already satisfied: pandocfilters>=1.4.1 in /usr/local/lib/python3.6/dist-packages (from nbconvert->notebook>=4.3.1->jupyterlab==2.2.4->-r requirements.txt (line 8)) (1.4.2)\n",
      "Requirement already satisfied: entrypoints>=0.2.2 in /usr/local/lib/python3.6/dist-packages (from nbconvert->notebook>=4.3.1->jupyterlab==2.2.4->-r requirements.txt (line 8)) (0.3)\n",
      "Requirement already satisfied: pygments in /usr/local/lib/python3.6/dist-packages (from nbconvert->notebook>=4.3.1->jupyterlab==2.2.4->-r requirements.txt (line 8)) (2.1.3)\n",
      "Requirement already satisfied: mistune<2,>=0.8.1 in /usr/local/lib/python3.6/dist-packages (from nbconvert->notebook>=4.3.1->jupyterlab==2.2.4->-r requirements.txt (line 8)) (0.8.4)\n",
      "Requirement already satisfied: ipython>=4.0.0 in /usr/local/lib/python3.6/dist-packages (from ipykernel->notebook>=4.3.1->jupyterlab==2.2.4->-r requirements.txt (line 8)) (5.5.0)\n",
      "Requirement already satisfied: ptyprocess; os_name != \"nt\" in /usr/local/lib/python3.6/dist-packages (from terminado>=0.8.1->notebook>=4.3.1->jupyterlab==2.2.4->-r requirements.txt (line 8)) (0.6.0)\n",
      "Requirement already satisfied: decorator in /usr/local/lib/python3.6/dist-packages (from traitlets>=4.2.1->notebook>=4.3.1->jupyterlab==2.2.4->-r requirements.txt (line 8)) (4.4.2)\n",
      "Requirement already satisfied: pyzmq>=13 in /usr/local/lib/python3.6/dist-packages (from jupyter-client>=5.2.0->notebook>=4.3.1->jupyterlab==2.2.4->-r requirements.txt (line 8)) (19.0.2)\n",
      "Requirement already satisfied: oauthlib>=3.0.0 in /usr/local/lib/python3.6/dist-packages (from requests-oauthlib>=0.7.0->google-auth-oauthlib<0.5,>=0.4.1->tensorboard>=1.14->pytorch-lightning==0.8.5->-r requirements.txt (line 6)) (3.1.0)\n",
      "Requirement already satisfied: zipp>=0.5 in /usr/local/lib/python3.6/dist-packages (from importlib-metadata; python_version < \"3.8\"->markdown>=2.6.8->tensorboard>=1.14->pytorch-lightning==0.8.5->-r requirements.txt (line 6)) (3.1.0)\n",
      "Requirement already satisfied: pyasn1<0.5.0,>=0.4.6 in /usr/local/lib/python3.6/dist-packages (from pyasn1-modules>=0.2.1->google-auth<2,>=1.6.3->tensorboard>=1.14->pytorch-lightning==0.8.5->-r requirements.txt (line 6)) (0.4.8)\n",
      "Requirement already satisfied: packaging in /usr/local/lib/python3.6/dist-packages (from bleach->nbconvert->notebook>=4.3.1->jupyterlab==2.2.4->-r requirements.txt (line 8)) (20.4)\n",
      "Requirement already satisfied: webencodings in /usr/local/lib/python3.6/dist-packages (from bleach->nbconvert->notebook>=4.3.1->jupyterlab==2.2.4->-r requirements.txt (line 8)) (0.5.1)\n",
      "Requirement already satisfied: prompt-toolkit<2.0.0,>=1.0.4 in /usr/local/lib/python3.6/dist-packages (from ipython>=4.0.0->ipykernel->notebook>=4.3.1->jupyterlab==2.2.4->-r requirements.txt (line 8)) (1.0.18)\n",
      "Requirement already satisfied: simplegeneric>0.8 in /usr/local/lib/python3.6/dist-packages (from ipython>=4.0.0->ipykernel->notebook>=4.3.1->jupyterlab==2.2.4->-r requirements.txt (line 8)) (0.8.1)\n",
      "Requirement already satisfied: pexpect; sys_platform != \"win32\" in /usr/local/lib/python3.6/dist-packages (from ipython>=4.0.0->ipykernel->notebook>=4.3.1->jupyterlab==2.2.4->-r requirements.txt (line 8)) (4.8.0)\n",
      "Requirement already satisfied: pickleshare in /usr/local/lib/python3.6/dist-packages (from ipython>=4.0.0->ipykernel->notebook>=4.3.1->jupyterlab==2.2.4->-r requirements.txt (line 8)) (0.7.5)\n",
      "Requirement already satisfied: wcwidth in /usr/local/lib/python3.6/dist-packages (from prompt-toolkit<2.0.0,>=1.0.4->ipython>=4.0.0->ipykernel->notebook>=4.3.1->jupyterlab==2.2.4->-r requirements.txt (line 8)) (0.2.5)\n",
      "Building wheels for collected packages: PyYAML\n",
      "  Building wheel for PyYAML (setup.py) ... \u001b[?25l\u001b[?25hdone\n",
      "  Created wheel for PyYAML: filename=PyYAML-5.3.1-cp36-cp36m-linux_x86_64.whl size=44621 sha256=4fa59c1d340febae731d93aae5d2196ec0b70638a9110185c56353011c2a84eb\n",
      "  Stored in directory: /root/.cache/pip/wheels/a7/c1/ea/cf5bd31012e735dc1dfea3131a2d5eae7978b251083d6247bd\n",
      "Successfully built PyYAML\n",
      "\u001b[31mERROR: tensorflow 2.3.0 has requirement numpy<1.19.0,>=1.16.0, but you'll have numpy 1.19.1 which is incompatible.\u001b[0m\n",
      "\u001b[31mERROR: google-colab 1.0.0 has requirement pandas~=1.0.0; python_version >= \"3.0\", but you'll have pandas 1.1.0 which is incompatible.\u001b[0m\n",
      "\u001b[31mERROR: datascience 0.10.6 has requirement folium==0.2.1, but you'll have folium 0.8.3 which is incompatible.\u001b[0m\n",
      "\u001b[31mERROR: albumentations 0.1.12 has requirement imgaug<0.2.7,>=0.2.5, but you'll have imgaug 0.2.9 which is incompatible.\u001b[0m\n",
      "\u001b[31mERROR: pytorch-lightning 0.8.5 has requirement future>=0.17.1, but you'll have future 0.16.0 which is incompatible.\u001b[0m\n",
      "Installing collected packages: numpy, pandas, mat4py, PyYAML, pytorch-lightning, matplotlib, jsonschema, json5, jupyterlab-server, jupyterlab\n",
      "  Found existing installation: numpy 1.18.5\n",
      "    Uninstalling numpy-1.18.5:\n",
      "      Successfully uninstalled numpy-1.18.5\n",
      "  Found existing installation: pandas 1.0.5\n",
      "    Uninstalling pandas-1.0.5:\n",
      "      Successfully uninstalled pandas-1.0.5\n",
      "  Found existing installation: PyYAML 3.13\n",
      "    Uninstalling PyYAML-3.13:\n",
      "      Successfully uninstalled PyYAML-3.13\n",
      "  Found existing installation: matplotlib 3.2.2\n",
      "    Uninstalling matplotlib-3.2.2:\n",
      "      Successfully uninstalled matplotlib-3.2.2\n",
      "  Found existing installation: jsonschema 2.6.0\n",
      "    Uninstalling jsonschema-2.6.0:\n",
      "      Successfully uninstalled jsonschema-2.6.0\n",
      "Successfully installed PyYAML-5.3.1 json5-0.9.5 jsonschema-3.2.0 jupyterlab-2.2.4 jupyterlab-server-1.2.0 mat4py-0.4.3 matplotlib-3.3.0 numpy-1.19.1 pandas-1.1.0 pytorch-lightning-0.8.5\n"
     ]
    },
    {
     "data": {
      "application/vnd.colab-display-data+json": {
       "pip_warning": {
        "packages": [
         "matplotlib",
         "mpl_toolkits",
         "numpy",
         "pandas"
        ]
       }
      }
     },
     "metadata": {
      "tags": []
     },
     "output_type": "display_data"
    }
   ],
   "source": [
    "!pip install -r requirements.txt"
   ]
  },
  {
   "cell_type": "code",
   "execution_count": 3,
   "metadata": {
    "colab": {
     "base_uri": "https://localhost:8080/",
     "height": 34
    },
    "colab_type": "code",
    "executionInfo": {
     "elapsed": 1685,
     "status": "ok",
     "timestamp": 1596997001646,
     "user": {
      "displayName": "Piotr Chaberski",
      "photoUrl": "",
      "userId": "02798827690844129152"
     },
     "user_tz": -120
    },
    "id": "guSDJEC7agGv",
    "outputId": "11a4be1d-881a-464c-fde6-c852957a5498"
   },
   "outputs": [
    {
     "name": "stdout",
     "output_type": "stream",
     "text": [
      "/usr/local/bin/python\n"
     ]
    }
   ],
   "source": [
    "!which python"
   ]
  },
  {
   "cell_type": "code",
   "execution_count": null,
   "metadata": {
    "colab": {},
    "colab_type": "code",
    "id": "YvuZnu8XcHKu"
   },
   "outputs": [],
   "source": []
  }
 ],
 "metadata": {
  "accelerator": "GPU",
  "colab": {
   "collapsed_sections": [],
   "name": "test_notebook.ipynb",
   "provenance": [],
   "toc_visible": true
  },
  "kernelspec": {
   "display_name": "Python 3",
   "language": "python",
   "name": "python3"
  },
  "language_info": {
   "codemirror_mode": {
    "name": "ipython",
    "version": 3
   },
   "file_extension": ".py",
   "mimetype": "text/x-python",
   "name": "python",
   "nbconvert_exporter": "python",
   "pygments_lexer": "ipython3",
   "version": "3.7.6"
  }
 },
 "nbformat": 4,
 "nbformat_minor": 4
}
