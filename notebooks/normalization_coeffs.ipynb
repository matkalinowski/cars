{
 "cells": [
  {
   "cell_type": "markdown",
   "metadata": {},
   "source": [
    "# Normalzation coefficients calculation (on training data)"
   ]
  },
  {
   "cell_type": "code",
   "execution_count": 1,
   "metadata": {},
   "outputs": [],
   "source": [
    "%load_ext autoreload\n",
    "%autoreload 2"
   ]
  },
  {
   "cell_type": "code",
   "execution_count": 2,
   "metadata": {},
   "outputs": [],
   "source": [
    "try:\n",
    "  import google.colab\n",
    "  IN_COLAB = True\n",
    "except:\n",
    "  IN_COLAB = False"
   ]
  },
  {
   "cell_type": "code",
   "execution_count": 3,
   "metadata": {},
   "outputs": [],
   "source": [
    "import os\n",
    "if IN_COLAB:\n",
    "    from google.colab import drive\n",
    "    drive.mount('/content/drive')\n",
    "    os.chdir('/content/drive/My Drive/gdprojects/cars')\n",
    "else:\n",
    "    os.chdir('C:/Users/pchaberski/Google Drive/gdprojects/cars')"
   ]
  },
  {
   "cell_type": "code",
   "execution_count": 4,
   "metadata": {},
   "outputs": [],
   "source": [
    "from utils.configuration import load_config\n",
    "from datasets.stanford_data import StanfordCarsDataset\n",
    "import torch\n",
    "import numpy as np"
   ]
  },
  {
   "cell_type": "code",
   "execution_count": 5,
   "metadata": {},
   "outputs": [],
   "source": [
    "CFG = load_config('config.yml')"
   ]
  },
  {
   "cell_type": "markdown",
   "metadata": {},
   "source": [
    "## Grayscale images"
   ]
  },
  {
   "cell_type": "code",
   "execution_count": 6,
   "metadata": {},
   "outputs": [],
   "source": [
    "convert_to_grayscale = True\n",
    "\n",
    "data_train = StanfordCarsDataset(\n",
    "    data_path = os.path.join(CFG['stanford_data_path'], 'train'),\n",
    "    labels_fpath = os.path.join(CFG['stanford_data_path'], 'train_labels.csv'),\n",
    "    image_size=[227, 227],\n",
    "    convert_to_grayscale=convert_to_grayscale,\n",
    "    normalize=False,\n",
    "    augment_images=False,\n",
    "    augment_tensors=False\n",
    ")"
   ]
  },
  {
   "cell_type": "code",
   "execution_count": 7,
   "metadata": {},
   "outputs": [],
   "source": [
    "means = []\n",
    "stds = []\n",
    "\n",
    "for idx in range(8144):\n",
    "    img = data_train[idx][0].detach().cpu()\n",
    "    means.append(torch.mean(img))\n",
    "    stds.append(torch.std(img))"
   ]
  },
  {
   "cell_type": "code",
   "execution_count": 8,
   "metadata": {},
   "outputs": [
    {
     "name": "stdout",
     "output_type": "stream",
     "text": [
      "Mean: 0.4627\n"
     ]
    }
   ],
   "source": [
    "print(f'Mean: {torch.mean(torch.stack(means)).numpy():.4f}')"
   ]
  },
  {
   "cell_type": "code",
   "execution_count": 9,
   "metadata": {},
   "outputs": [
    {
     "name": "stdout",
     "output_type": "stream",
     "text": [
      "Std: 0.2545\n"
     ]
    }
   ],
   "source": [
    "print(f'Std: {torch.mean(torch.stack(stds)).numpy():.4f}')"
   ]
  },
  {
   "cell_type": "markdown",
   "metadata": {},
   "source": [
    "## RGB images"
   ]
  },
  {
   "cell_type": "code",
   "execution_count": 10,
   "metadata": {},
   "outputs": [],
   "source": [
    "convert_to_grayscale = False\n",
    "\n",
    "data_train_rgb = StanfordCarsDataset(\n",
    "    data_path = os.path.join(CFG['stanford_data_path'], 'train'),\n",
    "    labels_fpath = os.path.join(CFG['stanford_data_path'], 'train_labels.csv'),\n",
    "    image_size=[227, 227],\n",
    "    convert_to_grayscale=convert_to_grayscale,\n",
    "    normalize=False,\n",
    "    augment_images=False,\n",
    "    augment_tensors=False\n",
    ")"
   ]
  },
  {
   "cell_type": "code",
   "execution_count": 11,
   "metadata": {},
   "outputs": [],
   "source": [
    "means_rgb = {\n",
    "    'r': [],\n",
    "    'g': [],\n",
    "    'b': []\n",
    "}\n",
    "stds_rgb = {\n",
    "    'r': [],\n",
    "    'g': [],\n",
    "    'b': []\n",
    "}\n",
    "\n",
    "for idx in range(8144):\n",
    "    img = data_train_rgb[idx][0].detach().cpu()\n",
    "    for i, k in enumerate(means_rgb):\n",
    "        means_rgb[k].append(torch.mean(img[i, :, :]))\n",
    "        stds_rgb[k].append(torch.std(img[i, :, :]))"
   ]
  },
  {
   "cell_type": "markdown",
   "metadata": {},
   "source": [
    "Means:"
   ]
  },
  {
   "cell_type": "code",
   "execution_count": 12,
   "metadata": {},
   "outputs": [
    {
     "name": "stdout",
     "output_type": "stream",
     "text": [
      "Mean-r: 0.4707\n",
      "Mean-g: 0.4602\n",
      "Mean-b: 0.4550\n"
     ]
    }
   ],
   "source": [
    "for k in means_rgb:\n",
    "    print(f'Mean-{k}: {torch.mean(torch.stack(means_rgb[k])).numpy():.4f}')"
   ]
  },
  {
   "cell_type": "code",
   "execution_count": 13,
   "metadata": {},
   "outputs": [
    {
     "name": "stdout",
     "output_type": "stream",
     "text": [
      "Std-r: 0.2594\n",
      "Std-g: 0.2585\n",
      "Std-b: 0.2635\n"
     ]
    }
   ],
   "source": [
    "for k in stds_rgb:\n",
    "    print(f'Std-{k}: {torch.mean(torch.stack(stds_rgb[k])).numpy():.4f}')"
   ]
  }
 ],
 "metadata": {
  "kernelspec": {
   "display_name": "Python 3.7.6 64-bit",
   "language": "python",
   "name": "python37664bit0e619a57d21640e39df6234a58474a36"
  },
  "language_info": {
   "codemirror_mode": {
    "name": "ipython",
    "version": 3
   },
   "file_extension": ".py",
   "mimetype": "text/x-python",
   "name": "python",
   "nbconvert_exporter": "python",
   "pygments_lexer": "ipython3",
   "version": "3.7.6"
  }
 },
 "nbformat": 4,
 "nbformat_minor": 4
}
